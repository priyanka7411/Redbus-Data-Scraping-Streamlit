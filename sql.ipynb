{
 "cells": [
  {
   "cell_type": "code",
   "execution_count": 1,
   "id": "74f50d5f-543a-43aa-b1f5-31c0df0c978b",
   "metadata": {},
   "outputs": [
    {
     "name": "stdout",
     "output_type": "stream",
     "text": [
      "Requirement already satisfied: mysql-connector-python in /opt/anaconda3/lib/python3.12/site-packages (9.1.0)\n",
      "Note: you may need to restart the kernel to use updated packages.\n"
     ]
    }
   ],
   "source": [
    "%pip install mysql-connector-python\n"
   ]
  },
  {
   "cell_type": "code",
   "execution_count": 1,
   "id": "4baf126e-6199-400e-bf41-2e5e9ca5953a",
   "metadata": {},
   "outputs": [],
   "source": [
    "import mysql.connector\n",
    "\n",
    "# Connect to the MySQL database\n",
    "conn = mysql.connector.connect(\n",
    "    host=\"localhost\",      # Replace with your MySQL host\n",
    "    user=\"root\",  # Replace with our MySQL username\n",
    "    password=\"pochi2002*\",  # Replace with our MySQL password\n",
    "    database=\"Red_Bus_Scrap\"  # Replace with the database we're using\n",
    "    \n",
    ")\n",
    "\n",
    "cursor = conn.cursor()\n"
   ]
  },
  {
   "cell_type": "code",
   "execution_count": 2,
   "id": "33e6cf1c-1eae-46e1-be5c-e6f3e98f0ada",
   "metadata": {},
   "outputs": [
    {
     "data": {
      "text/plain": [
       "<mysql.connector.cursor.MySQLCursor at 0x10e5a9250>"
      ]
     },
     "execution_count": 2,
     "metadata": {},
     "output_type": "execute_result"
    }
   ],
   "source": [
    "cursor"
   ]
  },
  {
   "cell_type": "code",
   "execution_count": 3,
   "id": "4f670e89-35d8-4955-a980-bca2ebc1631e",
   "metadata": {},
   "outputs": [
    {
     "name": "stdout",
     "output_type": "stream",
     "text": [
      "DS_WD_E_B15\n",
      "information_schema\n",
      "mysql\n",
      "performance_schema\n",
      "Red_Bus_Scrap\n",
      "sys\n"
     ]
    }
   ],
   "source": [
    "# Execute the query to show all databases\n",
    "cursor.execute(\"SHOW DATABASES\")\n",
    "\n",
    "# Fetch and print the list of databases\n",
    "databases = cursor.fetchall()\n",
    "\n",
    "for db in databases:\n",
    "    print(db[0])\n"
   ]
  },
  {
   "cell_type": "code",
   "execution_count": 4,
   "id": "5ca05c4e-7ca7-4c25-abb1-4ccedca3643d",
   "metadata": {},
   "outputs": [],
   "source": [
    "# Create bus_routes table\n",
    "create_table_query = '''\n",
    "CREATE TABLE IF NOT EXISTS bus_routes (\n",
    "    id INT AUTO_INCREMENT PRIMARY KEY,\n",
    "    route_name TEXT NOT NULL,\n",
    "    route_link TEXT NOT NULL,\n",
    "    busname TEXT NOT NULL,\n",
    "    bustype TEXT NOT NULL,\n",
    "    departing_time TIME NOT NULL,\n",
    "    duration TEXT NOT NULL,\n",
    "    reaching_time TIME NOT NULL,\n",
    "    star_rating FLOAT,\n",
    "    price DECIMAL(10, 2),\n",
    "    seats_available INT NOT NULL\n",
    ");\n",
    "'''\n",
    "cursor.execute(create_table_query)\n",
    "\n",
    "\n"
   ]
  },
  {
   "cell_type": "code",
   "execution_count": 5,
   "id": "072abaa5-4b7e-4b1e-bb27-c2112e04e288",
   "metadata": {},
   "outputs": [
    {
     "name": "stdout",
     "output_type": "stream",
     "text": [
      "('id', 'int', 'NO', 'PRI', None, 'auto_increment')\n",
      "('route_name', 'text', 'YES', '', None, '')\n",
      "('route_link', 'text', 'YES', '', None, '')\n",
      "('busname', 'text', 'YES', '', None, '')\n",
      "('bustype', 'text', 'YES', '', None, '')\n",
      "('departing_time', 'time', 'YES', '', None, '')\n",
      "('duration', 'text', 'YES', '', None, '')\n",
      "('reaching_time', 'time', 'YES', '', None, '')\n",
      "('star_rating', 'float', 'YES', '', None, '')\n",
      "('price', 'decimal(10,2)', 'YES', '', None, '')\n",
      "('seats_available', 'int', 'YES', '', None, '')\n"
     ]
    }
   ],
   "source": [
    "# Run the DESCRIBE query to view the structure of the bus_routes table\n",
    "cursor.execute(\"DESCRIBE bus_routes\")\n",
    "\n",
    "# Fetch all the rows (i.e., the description of the table)\n",
    "td = cursor.fetchall()\n",
    "\n",
    "# Print the table structure\n",
    "for row in td:\n",
    "    print(row)\n"
   ]
  },
  {
   "cell_type": "code",
   "execution_count": 6,
   "id": "61a60dbe",
   "metadata": {},
   "outputs": [
    {
     "name": "stdout",
     "output_type": "stream",
     "text": [
      "Requirement already satisfied: pandas in /opt/anaconda3/lib/python3.12/site-packages (2.2.2)\n",
      "Requirement already satisfied: numpy>=1.26.0 in /opt/anaconda3/lib/python3.12/site-packages (from pandas) (1.26.4)\n",
      "Requirement already satisfied: python-dateutil>=2.8.2 in /opt/anaconda3/lib/python3.12/site-packages (from pandas) (2.9.0.post0)\n",
      "Requirement already satisfied: pytz>=2020.1 in /opt/anaconda3/lib/python3.12/site-packages (from pandas) (2024.1)\n",
      "Requirement already satisfied: tzdata>=2022.7 in /opt/anaconda3/lib/python3.12/site-packages (from pandas) (2023.3)\n",
      "Requirement already satisfied: six>=1.5 in /opt/anaconda3/lib/python3.12/site-packages (from python-dateutil>=2.8.2->pandas) (1.16.0)\n",
      "Note: you may need to restart the kernel to use updated packages.\n"
     ]
    }
   ],
   "source": [
    "%pip install pandas\n"
   ]
  },
  {
   "cell_type": "code",
   "execution_count": 6,
   "id": "fca3f1e1-6612-43ca-a89c-78045cba7989",
   "metadata": {},
   "outputs": [],
   "source": [
    "import pandas as pd"
   ]
  },
  {
   "cell_type": "code",
   "execution_count": 7,
   "id": "9bf6532a-9833-460d-8b3c-904010521b40",
   "metadata": {},
   "outputs": [],
   "source": [
    "df_kerala=pd.read_csv(\"/Users/priyankamalavade/Desktop/redbus_scraping/scraped_all_required_bus_details/df_kerala.csv\")\n",
    "df_andhra=pd.read_csv(\"/Users/priyankamalavade/Desktop/redbus_scraping/scraped_all_required_bus_details/df_andra.csv\")\n",
    "df_assam=pd.read_csv(\"/Users/priyankamalavade/Desktop/redbus_scraping/scraped_all_required_bus_details/df_assam.csv\")\n",
    "df_chandigarh=pd.read_csv(\"/Users/priyankamalavade/Desktop/redbus_scraping/scraped_all_required_bus_details/df_chandigarh.csv\")\n",
    "df_GOA=pd.read_csv(\"/Users/priyankamalavade/Desktop/redbus_scraping/scraped_all_required_bus_details/df_GOA.csv\")\n",
    "df_himachalpradesh=pd.read_csv(\"/Users/priyankamalavade/Desktop/redbus_scraping/scraped_all_required_bus_details/df_himachalpradesh.csv\")\n",
    "df_jk=pd.read_csv(\"/Users/priyankamalavade/Desktop/redbus_scraping/scraped_all_required_bus_details/df_himachalpradesh.csv\")\n",
    "df_up=pd.read_csv(\"/Users/priyankamalavade/Desktop/redbus_scraping/scraped_all_required_bus_details/df_up.csv\")\n",
    "df_wb=pd.read_csv(\"/Users/priyankamalavade/Desktop/redbus_scraping/scraped_all_required_bus_details/df_wb.csv\")\n",
    "df_south_bengal=pd.read_csv(\"/Users/priyankamalavade/Desktop/redbus_scraping/scraped_all_required_bus_details/df_south_bengal.csv\")\n",
    "df_telangana=pd.read_csv(\"/Users/priyankamalavade/Desktop/redbus_scraping/scraped_all_required_bus_details/df_telangana.csv\")\n",
    "df_bihar=pd.read_csv(\"/Users/priyankamalavade/Desktop/redbus_scraping/scraped_all_required_bus_details/df_bihar.csv\")\n",
    "df_rajastan=pd.read_csv(\"/Users/priyankamalavade/Desktop/redbus_scraping/scraped_all_required_bus_details/df_rajastan.csv\")\n"
   ]
  },
  {
   "cell_type": "code",
   "execution_count": 8,
   "id": "2daf39e4-dd9b-4efa-8a91-889b71aa9ef7",
   "metadata": {},
   "outputs": [
    {
     "name": "stderr",
     "output_type": "stream",
     "text": [
      "/var/folders/yj/8l_4gn6560scq2dktx2xb6nm0000gn/T/ipykernel_947/3446218270.py:1: FutureWarning: The behavior of DataFrame concatenation with empty or all-NA entries is deprecated. In a future version, this will no longer exclude empty or all-NA columns when determining the result dtypes. To retain the old behavior, exclude the relevant entries before the concat operation.\n",
      "  df_bus=pd.concat([df_kerala,df_andhra,df_assam,df_chandigarh,df_GOA,df_himachalpradesh,df_jk,df_rajastan,df_south_bengal,df_telangana,df_up,df_wb])\n"
     ]
    }
   ],
   "source": [
    "df_bus=pd.concat([df_kerala,df_andhra,df_assam,df_chandigarh,df_GOA,df_himachalpradesh,df_jk,df_rajastan,df_south_bengal,df_telangana,df_up,df_wb])\n"
   ]
  },
  {
   "cell_type": "code",
   "execution_count": 9,
   "id": "a39d6444-e3c0-498e-8fa3-f8b3cc4b18c9",
   "metadata": {},
   "outputs": [
    {
     "data": {
      "text/html": [
       "<div>\n",
       "<style scoped>\n",
       "    .dataframe tbody tr th:only-of-type {\n",
       "        vertical-align: middle;\n",
       "    }\n",
       "\n",
       "    .dataframe tbody tr th {\n",
       "        vertical-align: top;\n",
       "    }\n",
       "\n",
       "    .dataframe thead th {\n",
       "        text-align: right;\n",
       "    }\n",
       "</style>\n",
       "<table border=\"1\" class=\"dataframe\">\n",
       "  <thead>\n",
       "    <tr style=\"text-align: right;\">\n",
       "      <th></th>\n",
       "      <th>Bus_name</th>\n",
       "      <th>Bus_type</th>\n",
       "      <th>Start_time</th>\n",
       "      <th>End_time</th>\n",
       "      <th>Total_duration</th>\n",
       "      <th>Price</th>\n",
       "      <th>Seats_Available</th>\n",
       "      <th>Ratings</th>\n",
       "      <th>Route_name</th>\n",
       "      <th>Route_link</th>\n",
       "    </tr>\n",
       "  </thead>\n",
       "  <tbody>\n",
       "    <tr>\n",
       "      <th>0</th>\n",
       "      <td>MMK Travels</td>\n",
       "      <td>A/C Seater / Sleeper (2+1)</td>\n",
       "      <td>22:30</td>\n",
       "      <td>07:30</td>\n",
       "      <td>09h 00m</td>\n",
       "      <td>750.0</td>\n",
       "      <td>24 Seats available</td>\n",
       "      <td>4.6\\n556</td>\n",
       "      <td>Bangalore to Kozhikode</td>\n",
       "      <td>https://www.redbus.in/bus-tickets/bangalore-to...</td>\n",
       "    </tr>\n",
       "    <tr>\n",
       "      <th>1</th>\n",
       "      <td>P K Travels</td>\n",
       "      <td>A/C Seater / Sleeper (2+1)</td>\n",
       "      <td>21:30</td>\n",
       "      <td>06:00</td>\n",
       "      <td>08h 30m</td>\n",
       "      <td>684.0</td>\n",
       "      <td>23 Seats available</td>\n",
       "      <td>4.2\\n62</td>\n",
       "      <td>Bangalore to Kozhikode</td>\n",
       "      <td>https://www.redbus.in/bus-tickets/bangalore-to...</td>\n",
       "    </tr>\n",
       "    <tr>\n",
       "      <th>2</th>\n",
       "      <td>P K Travels</td>\n",
       "      <td>A/C Sleeper (2+1)</td>\n",
       "      <td>18:45</td>\n",
       "      <td>06:30</td>\n",
       "      <td>11h 45m</td>\n",
       "      <td>810.0</td>\n",
       "      <td>24 Seats available</td>\n",
       "      <td>4.1\\n110</td>\n",
       "      <td>Bangalore to Kozhikode</td>\n",
       "      <td>https://www.redbus.in/bus-tickets/bangalore-to...</td>\n",
       "    </tr>\n",
       "    <tr>\n",
       "      <th>3</th>\n",
       "      <td>AdSAAM BUS</td>\n",
       "      <td>VE A/C Sleeper (2+1)</td>\n",
       "      <td>21:45</td>\n",
       "      <td>06:45</td>\n",
       "      <td>09h 00m</td>\n",
       "      <td>786.0</td>\n",
       "      <td>17 Seats available</td>\n",
       "      <td>4.1\\n289</td>\n",
       "      <td>Bangalore to Kozhikode</td>\n",
       "      <td>https://www.redbus.in/bus-tickets/bangalore-to...</td>\n",
       "    </tr>\n",
       "    <tr>\n",
       "      <th>4</th>\n",
       "      <td>NS Transports</td>\n",
       "      <td>Non A/C Seater / Sleeper (2+1)</td>\n",
       "      <td>21:45</td>\n",
       "      <td>06:10</td>\n",
       "      <td>08h 25m</td>\n",
       "      <td>699.0</td>\n",
       "      <td>19 Seats available</td>\n",
       "      <td>4.2\\n276</td>\n",
       "      <td>Bangalore to Kozhikode</td>\n",
       "      <td>https://www.redbus.in/bus-tickets/bangalore-to...</td>\n",
       "    </tr>\n",
       "    <tr>\n",
       "      <th>...</th>\n",
       "      <td>...</td>\n",
       "      <td>...</td>\n",
       "      <td>...</td>\n",
       "      <td>...</td>\n",
       "      <td>...</td>\n",
       "      <td>...</td>\n",
       "      <td>...</td>\n",
       "      <td>...</td>\n",
       "      <td>...</td>\n",
       "      <td>...</td>\n",
       "    </tr>\n",
       "    <tr>\n",
       "      <th>191</th>\n",
       "      <td>NaN</td>\n",
       "      <td>NaN</td>\n",
       "      <td>NaN</td>\n",
       "      <td>NaN</td>\n",
       "      <td>NaN</td>\n",
       "      <td>NaN</td>\n",
       "      <td>NaN</td>\n",
       "      <td>NaN</td>\n",
       "      <td>Kolkata to Haldia</td>\n",
       "      <td>https://www.redbus.in/bus-tickets/kolkata-to-h...</td>\n",
       "    </tr>\n",
       "    <tr>\n",
       "      <th>192</th>\n",
       "      <td>NaN</td>\n",
       "      <td>NaN</td>\n",
       "      <td>NaN</td>\n",
       "      <td>NaN</td>\n",
       "      <td>NaN</td>\n",
       "      <td>NaN</td>\n",
       "      <td>NaN</td>\n",
       "      <td>NaN</td>\n",
       "      <td>Kolkata to Haldia</td>\n",
       "      <td>https://www.redbus.in/bus-tickets/kolkata-to-h...</td>\n",
       "    </tr>\n",
       "    <tr>\n",
       "      <th>193</th>\n",
       "      <td>NaN</td>\n",
       "      <td>NaN</td>\n",
       "      <td>NaN</td>\n",
       "      <td>NaN</td>\n",
       "      <td>NaN</td>\n",
       "      <td>NaN</td>\n",
       "      <td>NaN</td>\n",
       "      <td>NaN</td>\n",
       "      <td>Kolkata to Haldia</td>\n",
       "      <td>https://www.redbus.in/bus-tickets/kolkata-to-h...</td>\n",
       "    </tr>\n",
       "    <tr>\n",
       "      <th>194</th>\n",
       "      <td>NaN</td>\n",
       "      <td>NaN</td>\n",
       "      <td>NaN</td>\n",
       "      <td>NaN</td>\n",
       "      <td>NaN</td>\n",
       "      <td>NaN</td>\n",
       "      <td>NaN</td>\n",
       "      <td>NaN</td>\n",
       "      <td>Kolkata to Haldia</td>\n",
       "      <td>https://www.redbus.in/bus-tickets/kolkata-to-h...</td>\n",
       "    </tr>\n",
       "    <tr>\n",
       "      <th>195</th>\n",
       "      <td>NaN</td>\n",
       "      <td>NaN</td>\n",
       "      <td>NaN</td>\n",
       "      <td>NaN</td>\n",
       "      <td>NaN</td>\n",
       "      <td>NaN</td>\n",
       "      <td>NaN</td>\n",
       "      <td>NaN</td>\n",
       "      <td>Kolkata to Haldia</td>\n",
       "      <td>https://www.redbus.in/bus-tickets/kolkata-to-h...</td>\n",
       "    </tr>\n",
       "  </tbody>\n",
       "</table>\n",
       "<p>2461 rows × 10 columns</p>\n",
       "</div>"
      ],
      "text/plain": [
       "          Bus_name                        Bus_type Start_time End_time  \\\n",
       "0      MMK Travels      A/C Seater / Sleeper (2+1)      22:30    07:30   \n",
       "1      P K Travels      A/C Seater / Sleeper (2+1)      21:30    06:00   \n",
       "2      P K Travels               A/C Sleeper (2+1)      18:45    06:30   \n",
       "3       AdSAAM BUS            VE A/C Sleeper (2+1)      21:45    06:45   \n",
       "4    NS Transports  Non A/C Seater / Sleeper (2+1)      21:45    06:10   \n",
       "..             ...                             ...        ...      ...   \n",
       "191            NaN                             NaN        NaN      NaN   \n",
       "192            NaN                             NaN        NaN      NaN   \n",
       "193            NaN                             NaN        NaN      NaN   \n",
       "194            NaN                             NaN        NaN      NaN   \n",
       "195            NaN                             NaN        NaN      NaN   \n",
       "\n",
       "    Total_duration  Price     Seats_Available   Ratings  \\\n",
       "0          09h 00m  750.0  24 Seats available  4.6\\n556   \n",
       "1          08h 30m  684.0  23 Seats available   4.2\\n62   \n",
       "2          11h 45m  810.0  24 Seats available  4.1\\n110   \n",
       "3          09h 00m  786.0  17 Seats available  4.1\\n289   \n",
       "4          08h 25m  699.0  19 Seats available  4.2\\n276   \n",
       "..             ...    ...                 ...       ...   \n",
       "191            NaN    NaN                 NaN       NaN   \n",
       "192            NaN    NaN                 NaN       NaN   \n",
       "193            NaN    NaN                 NaN       NaN   \n",
       "194            NaN    NaN                 NaN       NaN   \n",
       "195            NaN    NaN                 NaN       NaN   \n",
       "\n",
       "                 Route_name                                         Route_link  \n",
       "0    Bangalore to Kozhikode  https://www.redbus.in/bus-tickets/bangalore-to...  \n",
       "1    Bangalore to Kozhikode  https://www.redbus.in/bus-tickets/bangalore-to...  \n",
       "2    Bangalore to Kozhikode  https://www.redbus.in/bus-tickets/bangalore-to...  \n",
       "3    Bangalore to Kozhikode  https://www.redbus.in/bus-tickets/bangalore-to...  \n",
       "4    Bangalore to Kozhikode  https://www.redbus.in/bus-tickets/bangalore-to...  \n",
       "..                      ...                                                ...  \n",
       "191       Kolkata to Haldia  https://www.redbus.in/bus-tickets/kolkata-to-h...  \n",
       "192       Kolkata to Haldia  https://www.redbus.in/bus-tickets/kolkata-to-h...  \n",
       "193       Kolkata to Haldia  https://www.redbus.in/bus-tickets/kolkata-to-h...  \n",
       "194       Kolkata to Haldia  https://www.redbus.in/bus-tickets/kolkata-to-h...  \n",
       "195       Kolkata to Haldia  https://www.redbus.in/bus-tickets/kolkata-to-h...  \n",
       "\n",
       "[2461 rows x 10 columns]"
      ]
     },
     "execution_count": 9,
     "metadata": {},
     "output_type": "execute_result"
    }
   ],
   "source": [
    "df_bus"
   ]
  },
  {
   "cell_type": "code",
   "execution_count": 20,
   "id": "827ab3c5-c380-4b5b-97ea-9a4717225c3f",
   "metadata": {},
   "outputs": [
    {
     "name": "stdout",
     "output_type": "stream",
     "text": [
      "float64\n",
      "   Ratings\n",
      "0      4.6\n",
      "1      4.2\n",
      "2      4.1\n",
      "3      4.1\n",
      "4      4.2\n"
     ]
    }
   ],
   "source": [
    "# Clean the Ratings column by removing non-numeric characters\n",
    "df_bus['Ratings'] = df_bus['Ratings'].str.extract(r'(\\d+\\.?\\d*)').astype(float)\n",
    "\n",
    "print(df_bus['Ratings'].dtype)  # Check if it's now a float\n",
    "print(df_bus[['Ratings']].head())  # Check the first few rows of the Ratings column\n"
   ]
  },
  {
   "cell_type": "code",
   "execution_count": 19,
   "id": "92885c64-54fa-4f7b-a714-65dce8ebd49a",
   "metadata": {},
   "outputs": [],
   "source": [
    "df_bus['Seats_Available'] = df_bus['Seats_Available'].astype(str)\n",
    "# Clean the Seats_Available column to ensure it only contains valid integer values\n",
    "df_bus['Seats_Available'] = df_bus['Seats_Available'].str.replace(r'\\D+', '', regex=True)  # Remove non-numeric characters\n",
    "df_bus['Seats_Available'] = pd.to_numeric(df_bus['Seats_Available'], errors='coerce')  # Convert to numeric (INT), set invalid to NaN\n",
    "\n",
    "# Drop rows with NaN values in Seats_Available if needed\n",
    "df_bus.dropna(subset=['Seats_Available'], inplace=True)\n",
    "\n",
    "# Convert the Seats_Available column to integer\n",
    "df_bus['Seats_Available'] = df_bus['Seats_Available'].astype(int)\n",
    "\n",
    "\n",
    "# Remove non-numeric characters and convert to integers\n",
    "#df_bus['Seats_Available'] = df_bus['Seats_Available'].str.extract(r'(\\d+)').astype(float).astype(int)\n",
    "\n"
   ]
  },
  {
   "cell_type": "code",
   "execution_count": 18,
   "id": "055da1f1-4622-494f-beb9-aaf4827bde7a",
   "metadata": {},
   "outputs": [
    {
     "name": "stdout",
     "output_type": "stream",
     "text": [
      "object\n",
      "      Seats_Available\n",
      "0  24 Seats available\n",
      "1  23 Seats available\n",
      "2  24 Seats available\n",
      "3  17 Seats available\n",
      "4  19 Seats available\n"
     ]
    }
   ],
   "source": [
    "print(df_bus['Seats_Available'].dtype)  # Check if it's now an integer\n",
    "print(df_bus[['Seats_Available']].head())  # Check the first few rows of the Seats_Available column\n"
   ]
  },
  {
   "cell_type": "code",
   "execution_count": 15,
   "id": "d9f96a66-2573-4aa3-974c-1ff72ce2322e",
   "metadata": {},
   "outputs": [
    {
     "name": "stdout",
     "output_type": "stream",
     "text": [
      "Ratings successfully updated in the database.\n"
     ]
    }
   ],
   "source": [
    "cursor.fetchall()\n",
    "# SQL query to update the star_rating (Ratings) in the bus_routes table\n",
    "update_query = \"\"\"\n",
    "    UPDATE bus_routes\n",
    "    SET star_rating = %s\n",
    "    WHERE route_name = %s AND busname = %s;\n",
    "\"\"\"\n",
    "\n",
    "# Iterate over DataFrame rows and update the Ratings (star_rating) in the database\n",
    "for index, row in df_bus.iterrows():\n",
    "    \n",
    "    # Ensure that the Ratings value is cleaned and formatted correctly\n",
    "    rating_value = row['Ratings']\n",
    "    \n",
    "    # Execute the update query with parameters\n",
    "    cursor.execute(update_query, (\n",
    "        rating_value,            # The new star_rating (Ratings)\n",
    "        row['Route_name'],       # The corresponding route_name in bus_routes table\n",
    "        row['Bus_name'],         # The corresponding busname in bus_routes table\n",
    "    ))\n",
    "\n",
    "# Commit the transaction to apply changes\n",
    "conn.commit()\n",
    "\n",
    "# Optionally, you can print a confirmation message\n",
    "print(\"Ratings successfully updated in the database.\")\n"
   ]
  },
  {
   "cell_type": "code",
   "execution_count": 16,
   "id": "e3f52c48-1671-4822-81e1-f7b5731baf75",
   "metadata": {},
   "outputs": [
    {
     "name": "stdout",
     "output_type": "stream",
     "text": [
      "Data successfully inserted and saved to the database.\n"
     ]
    }
   ],
   "source": [
    "cursor.fetchall()\n",
    "# SQL query to insert data into the bus_routes table\n",
    "sql_query = \"\"\"\n",
    "        INSERT INTO bus_routes (\n",
    "            route_name, route_link, busname, bustype, departing_time, duration,\n",
    "            reaching_time, star_rating, price, seats_available\n",
    "        ) VALUES (\n",
    "            %s, %s, %s, %s, %s, %s, %s, %s, %s, %s\n",
    "        );\n",
    "        \"\"\"\n",
    "\n",
    "# Iterate over DataFrame rows and insert data into the database\n",
    "for index, row in df_bus.iterrows():\n",
    "            \n",
    "    # Execute the query with parameters\n",
    "    cursor.execute(sql_query, (\n",
    "        row['Route_name'],        # Corresponds to route_name in bus_routes table\n",
    "        row['Route_link'],        # Corresponds to route_link in bus_routes table\n",
    "        row['Bus_name'],          # Corresponds to busname in bus_routes table\n",
    "        row['Bus_type'],          # Corresponds to bustype in bus_routes table\n",
    "        row['Start_time'],        # Corresponds to departing_time in bus_routes table\n",
    "        row['Total_duration'],    # Corresponds to duration in bus_routes table\n",
    "        row['End_time'],          # Corresponds to reaching_time in bus_routes table\n",
    "        row['Ratings'],           # Corresponds to star_rating in bus_routes table\n",
    "        row['Price'],             # Corresponds to price in bus_routes table\n",
    "        row['Seats_Available'],   # Corresponds to seats_available in bus_routes table\n",
    "    ))\n",
    "\n",
    "# Commit the transaction to save changes permanently\n",
    "conn.commit()\n",
    "\n",
    "# Optionally, you can print a confirmation message\n",
    "print(\"Data successfully inserted and saved to the database.\")\n"
   ]
  },
  {
   "cell_type": "code",
   "execution_count": null,
   "id": "6bf9176b-af9f-4d08-b8dc-44a081f40e30",
   "metadata": {},
   "outputs": [],
   "source": [
    "\n",
    "import pandas as pd\n",
    "\n",
    "# SQL query to fetch all data from the bus_routes table\n",
    "select_query = \"SELECT * FROM bus_routes ;\"\n",
    "\n",
    "# Execute the query\n",
    "cursor.execute(select_query)\n",
    "\n",
    "# Fetch all rows\n",
    "rows = cursor.fetchall()\n",
    "\n",
    "# Display the results in SQL format (list of tuples)\n",
    "for row in rows:\n",
    "    print(row)\n",
    "\n",
    "\n"
   ]
  },
  {
   "cell_type": "code",
   "execution_count": null,
   "id": "6a44060c-ac8b-4f6f-b188-80198f22e97e",
   "metadata": {},
   "outputs": [],
   "source": [
    "import pandas as pd\n",
    "\n",
    "# Define the column names for the DataFrame\n",
    "\n",
    "columns = ['ID', 'Route_name', 'Route_link', 'Bus_name', 'Bus_type', 'Departing_time', 'Total_duration', 'End_time', 'Ratings', 'Price', 'Seats_Available']\n",
    "\n",
    "\n",
    "\n",
    "# Convert the fetched rows into a pandas DataFrame\n",
    "df = pd.DataFrame(rows, columns=columns)\n",
    "\n",
    "# Display the DataFrame as a table\n",
    "df"
   ]
  }
 ],
 "metadata": {
  "kernelspec": {
   "display_name": "base",
   "language": "python",
   "name": "python3"
  },
  "language_info": {
   "codemirror_mode": {
    "name": "ipython",
    "version": 3
   },
   "file_extension": ".py",
   "mimetype": "text/x-python",
   "name": "python",
   "nbconvert_exporter": "python",
   "pygments_lexer": "ipython3",
   "version": "3.12.4"
  }
 },
 "nbformat": 4,
 "nbformat_minor": 5
}
