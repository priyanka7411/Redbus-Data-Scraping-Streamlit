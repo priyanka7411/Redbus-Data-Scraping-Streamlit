{
 "cells": [
  {
   "cell_type": "code",
   "execution_count": 2,
   "id": "b6e7f547-ed59-4a72-816e-f921a5a0657f",
   "metadata": {},
   "outputs": [],
   "source": [
    "import pandas as pd\n",
    "import mysql.connector \n"
   ]
  },
  {
   "cell_type": "code",
   "execution_count": 3,
   "id": "b2323ba9-eee3-4e2e-90a2-7592f8a9ed7c",
   "metadata": {},
   "outputs": [],
   "source": [
    "df_kerala=pd.read_csv(\"/Users/priyankamalavade/Desktop/redbus_scraping/scraped_all_required_bus_details/df_kerala.csv\")\n",
    "df_andhra=pd.read_csv(\"/Users/priyankamalavade/Desktop/redbus_scraping/scraped_all_required_bus_details/df_andra.csv\")\n",
    "df_assam=pd.read_csv(\"/Users/priyankamalavade/Desktop/redbus_scraping/scraped_all_required_bus_details/df_assam.csv\")\n",
    "df_chandigarh=pd.read_csv(\"/Users/priyankamalavade/Desktop/redbus_scraping/scraped_all_required_bus_details/df_chandigarh.csv\")\n",
    "df_GOA=pd.read_csv(\"/Users/priyankamalavade/Desktop/redbus_scraping/scraped_all_required_bus_details/df_GOA.csv\")\n",
    "df_himachalpradesh=pd.read_csv(\"/Users/priyankamalavade/Desktop/redbus_scraping/scraped_all_required_bus_details/df_himachalpradesh.csv\")\n",
    "df_jk=pd.read_csv(\"/Users/priyankamalavade/Desktop/redbus_scraping/scraped_all_required_bus_details/df_himachalpradesh.csv\")\n",
    "df_up=pd.read_csv(\"/Users/priyankamalavade/Desktop/redbus_scraping/scraped_all_required_bus_details/df_up.csv\")\n",
    "df_wb=pd.read_csv(\"/Users/priyankamalavade/Desktop/redbus_scraping/scraped_all_required_bus_details/df_wb.csv\")\n",
    "df_south_bengal=pd.read_csv(\"/Users/priyankamalavade/Desktop/redbus_scraping/scraped_all_required_bus_details/df_south_bengal.csv\")\n",
    "df_telangana=pd.read_csv(\"/Users/priyankamalavade/Desktop/redbus_scraping/scraped_all_required_bus_details/df_telangana.csv\")\n",
    "df_bihar=pd.read_csv(\"/Users/priyankamalavade/Desktop/redbus_scraping/scraped_all_required_bus_details/df_bihar.csv\")\n",
    "df_rajastan=pd.read_csv(\"/Users/priyankamalavade/Desktop/redbus_scraping/scraped_all_required_bus_details/df_rajastan.csv\")\n"
   ]
  },
  {
   "cell_type": "code",
   "execution_count": 4,
   "id": "c3ec9bb8-d228-4030-81cd-41bbcac619a5",
   "metadata": {},
   "outputs": [
    {
     "name": "stderr",
     "output_type": "stream",
     "text": [
      "/var/folders/yj/8l_4gn6560scq2dktx2xb6nm0000gn/T/ipykernel_4044/3446218270.py:1: FutureWarning: The behavior of DataFrame concatenation with empty or all-NA entries is deprecated. In a future version, this will no longer exclude empty or all-NA columns when determining the result dtypes. To retain the old behavior, exclude the relevant entries before the concat operation.\n",
      "  df_bus=pd.concat([df_kerala,df_andhra,df_assam,df_chandigarh,df_GOA,df_himachalpradesh,df_jk,df_rajastan,df_south_bengal,df_telangana,df_up,df_wb])\n"
     ]
    }
   ],
   "source": [
    "df_bus=pd.concat([df_kerala,df_andhra,df_assam,df_chandigarh,df_GOA,df_himachalpradesh,df_jk,df_rajastan,df_south_bengal,df_telangana,df_up,df_wb])\n"
   ]
  },
  {
   "cell_type": "code",
   "execution_count": 5,
   "id": "bc0d9ebb-b546-456e-ae01-178bd1e2decd",
   "metadata": {},
   "outputs": [
    {
     "data": {
      "text/html": [
       "<div>\n",
       "<style scoped>\n",
       "    .dataframe tbody tr th:only-of-type {\n",
       "        vertical-align: middle;\n",
       "    }\n",
       "\n",
       "    .dataframe tbody tr th {\n",
       "        vertical-align: top;\n",
       "    }\n",
       "\n",
       "    .dataframe thead th {\n",
       "        text-align: right;\n",
       "    }\n",
       "</style>\n",
       "<table border=\"1\" class=\"dataframe\">\n",
       "  <thead>\n",
       "    <tr style=\"text-align: right;\">\n",
       "      <th></th>\n",
       "      <th>Bus_name</th>\n",
       "      <th>Bus_type</th>\n",
       "      <th>Start_time</th>\n",
       "      <th>End_time</th>\n",
       "      <th>Total_duration</th>\n",
       "      <th>Price</th>\n",
       "      <th>Seats_Available</th>\n",
       "      <th>Ratings</th>\n",
       "      <th>Route_name</th>\n",
       "      <th>Route_link</th>\n",
       "    </tr>\n",
       "  </thead>\n",
       "  <tbody>\n",
       "    <tr>\n",
       "      <th>0</th>\n",
       "      <td>MMK Travels</td>\n",
       "      <td>A/C Seater / Sleeper (2+1)</td>\n",
       "      <td>22:30</td>\n",
       "      <td>07:30</td>\n",
       "      <td>09h 00m</td>\n",
       "      <td>750.0</td>\n",
       "      <td>24 Seats available</td>\n",
       "      <td>4.6\\n556</td>\n",
       "      <td>Bangalore to Kozhikode</td>\n",
       "      <td>https://www.redbus.in/bus-tickets/bangalore-to...</td>\n",
       "    </tr>\n",
       "    <tr>\n",
       "      <th>1</th>\n",
       "      <td>P K Travels</td>\n",
       "      <td>A/C Seater / Sleeper (2+1)</td>\n",
       "      <td>21:30</td>\n",
       "      <td>06:00</td>\n",
       "      <td>08h 30m</td>\n",
       "      <td>684.0</td>\n",
       "      <td>23 Seats available</td>\n",
       "      <td>4.2\\n62</td>\n",
       "      <td>Bangalore to Kozhikode</td>\n",
       "      <td>https://www.redbus.in/bus-tickets/bangalore-to...</td>\n",
       "    </tr>\n",
       "    <tr>\n",
       "      <th>2</th>\n",
       "      <td>P K Travels</td>\n",
       "      <td>A/C Sleeper (2+1)</td>\n",
       "      <td>18:45</td>\n",
       "      <td>06:30</td>\n",
       "      <td>11h 45m</td>\n",
       "      <td>810.0</td>\n",
       "      <td>24 Seats available</td>\n",
       "      <td>4.1\\n110</td>\n",
       "      <td>Bangalore to Kozhikode</td>\n",
       "      <td>https://www.redbus.in/bus-tickets/bangalore-to...</td>\n",
       "    </tr>\n",
       "    <tr>\n",
       "      <th>3</th>\n",
       "      <td>AdSAAM BUS</td>\n",
       "      <td>VE A/C Sleeper (2+1)</td>\n",
       "      <td>21:45</td>\n",
       "      <td>06:45</td>\n",
       "      <td>09h 00m</td>\n",
       "      <td>786.0</td>\n",
       "      <td>17 Seats available</td>\n",
       "      <td>4.1\\n289</td>\n",
       "      <td>Bangalore to Kozhikode</td>\n",
       "      <td>https://www.redbus.in/bus-tickets/bangalore-to...</td>\n",
       "    </tr>\n",
       "    <tr>\n",
       "      <th>4</th>\n",
       "      <td>NS Transports</td>\n",
       "      <td>Non A/C Seater / Sleeper (2+1)</td>\n",
       "      <td>21:45</td>\n",
       "      <td>06:10</td>\n",
       "      <td>08h 25m</td>\n",
       "      <td>699.0</td>\n",
       "      <td>19 Seats available</td>\n",
       "      <td>4.2\\n276</td>\n",
       "      <td>Bangalore to Kozhikode</td>\n",
       "      <td>https://www.redbus.in/bus-tickets/bangalore-to...</td>\n",
       "    </tr>\n",
       "    <tr>\n",
       "      <th>...</th>\n",
       "      <td>...</td>\n",
       "      <td>...</td>\n",
       "      <td>...</td>\n",
       "      <td>...</td>\n",
       "      <td>...</td>\n",
       "      <td>...</td>\n",
       "      <td>...</td>\n",
       "      <td>...</td>\n",
       "      <td>...</td>\n",
       "      <td>...</td>\n",
       "    </tr>\n",
       "    <tr>\n",
       "      <th>191</th>\n",
       "      <td>NaN</td>\n",
       "      <td>NaN</td>\n",
       "      <td>NaN</td>\n",
       "      <td>NaN</td>\n",
       "      <td>NaN</td>\n",
       "      <td>NaN</td>\n",
       "      <td>NaN</td>\n",
       "      <td>NaN</td>\n",
       "      <td>Kolkata to Haldia</td>\n",
       "      <td>https://www.redbus.in/bus-tickets/kolkata-to-h...</td>\n",
       "    </tr>\n",
       "    <tr>\n",
       "      <th>192</th>\n",
       "      <td>NaN</td>\n",
       "      <td>NaN</td>\n",
       "      <td>NaN</td>\n",
       "      <td>NaN</td>\n",
       "      <td>NaN</td>\n",
       "      <td>NaN</td>\n",
       "      <td>NaN</td>\n",
       "      <td>NaN</td>\n",
       "      <td>Kolkata to Haldia</td>\n",
       "      <td>https://www.redbus.in/bus-tickets/kolkata-to-h...</td>\n",
       "    </tr>\n",
       "    <tr>\n",
       "      <th>193</th>\n",
       "      <td>NaN</td>\n",
       "      <td>NaN</td>\n",
       "      <td>NaN</td>\n",
       "      <td>NaN</td>\n",
       "      <td>NaN</td>\n",
       "      <td>NaN</td>\n",
       "      <td>NaN</td>\n",
       "      <td>NaN</td>\n",
       "      <td>Kolkata to Haldia</td>\n",
       "      <td>https://www.redbus.in/bus-tickets/kolkata-to-h...</td>\n",
       "    </tr>\n",
       "    <tr>\n",
       "      <th>194</th>\n",
       "      <td>NaN</td>\n",
       "      <td>NaN</td>\n",
       "      <td>NaN</td>\n",
       "      <td>NaN</td>\n",
       "      <td>NaN</td>\n",
       "      <td>NaN</td>\n",
       "      <td>NaN</td>\n",
       "      <td>NaN</td>\n",
       "      <td>Kolkata to Haldia</td>\n",
       "      <td>https://www.redbus.in/bus-tickets/kolkata-to-h...</td>\n",
       "    </tr>\n",
       "    <tr>\n",
       "      <th>195</th>\n",
       "      <td>NaN</td>\n",
       "      <td>NaN</td>\n",
       "      <td>NaN</td>\n",
       "      <td>NaN</td>\n",
       "      <td>NaN</td>\n",
       "      <td>NaN</td>\n",
       "      <td>NaN</td>\n",
       "      <td>NaN</td>\n",
       "      <td>Kolkata to Haldia</td>\n",
       "      <td>https://www.redbus.in/bus-tickets/kolkata-to-h...</td>\n",
       "    </tr>\n",
       "  </tbody>\n",
       "</table>\n",
       "<p>2461 rows × 10 columns</p>\n",
       "</div>"
      ],
      "text/plain": [
       "          Bus_name                        Bus_type Start_time End_time  \\\n",
       "0      MMK Travels      A/C Seater / Sleeper (2+1)      22:30    07:30   \n",
       "1      P K Travels      A/C Seater / Sleeper (2+1)      21:30    06:00   \n",
       "2      P K Travels               A/C Sleeper (2+1)      18:45    06:30   \n",
       "3       AdSAAM BUS            VE A/C Sleeper (2+1)      21:45    06:45   \n",
       "4    NS Transports  Non A/C Seater / Sleeper (2+1)      21:45    06:10   \n",
       "..             ...                             ...        ...      ...   \n",
       "191            NaN                             NaN        NaN      NaN   \n",
       "192            NaN                             NaN        NaN      NaN   \n",
       "193            NaN                             NaN        NaN      NaN   \n",
       "194            NaN                             NaN        NaN      NaN   \n",
       "195            NaN                             NaN        NaN      NaN   \n",
       "\n",
       "    Total_duration  Price     Seats_Available   Ratings  \\\n",
       "0          09h 00m  750.0  24 Seats available  4.6\\n556   \n",
       "1          08h 30m  684.0  23 Seats available   4.2\\n62   \n",
       "2          11h 45m  810.0  24 Seats available  4.1\\n110   \n",
       "3          09h 00m  786.0  17 Seats available  4.1\\n289   \n",
       "4          08h 25m  699.0  19 Seats available  4.2\\n276   \n",
       "..             ...    ...                 ...       ...   \n",
       "191            NaN    NaN                 NaN       NaN   \n",
       "192            NaN    NaN                 NaN       NaN   \n",
       "193            NaN    NaN                 NaN       NaN   \n",
       "194            NaN    NaN                 NaN       NaN   \n",
       "195            NaN    NaN                 NaN       NaN   \n",
       "\n",
       "                 Route_name                                         Route_link  \n",
       "0    Bangalore to Kozhikode  https://www.redbus.in/bus-tickets/bangalore-to...  \n",
       "1    Bangalore to Kozhikode  https://www.redbus.in/bus-tickets/bangalore-to...  \n",
       "2    Bangalore to Kozhikode  https://www.redbus.in/bus-tickets/bangalore-to...  \n",
       "3    Bangalore to Kozhikode  https://www.redbus.in/bus-tickets/bangalore-to...  \n",
       "4    Bangalore to Kozhikode  https://www.redbus.in/bus-tickets/bangalore-to...  \n",
       "..                      ...                                                ...  \n",
       "191       Kolkata to Haldia  https://www.redbus.in/bus-tickets/kolkata-to-h...  \n",
       "192       Kolkata to Haldia  https://www.redbus.in/bus-tickets/kolkata-to-h...  \n",
       "193       Kolkata to Haldia  https://www.redbus.in/bus-tickets/kolkata-to-h...  \n",
       "194       Kolkata to Haldia  https://www.redbus.in/bus-tickets/kolkata-to-h...  \n",
       "195       Kolkata to Haldia  https://www.redbus.in/bus-tickets/kolkata-to-h...  \n",
       "\n",
       "[2461 rows x 10 columns]"
      ]
     },
     "execution_count": 5,
     "metadata": {},
     "output_type": "execute_result"
    }
   ],
   "source": [
    "df_bus"
   ]
  },
  {
   "cell_type": "code",
   "execution_count": 6,
   "id": "a296bb7a-e9de-4a7b-9822-2ec4bb09d981",
   "metadata": {},
   "outputs": [
    {
     "name": "stdout",
     "output_type": "stream",
     "text": [
      "Bus_name           958\n",
      "Bus_type           967\n",
      "Start_time         951\n",
      "End_time           951\n",
      "Total_duration     951\n",
      "Price              946\n",
      "Seats_Available    937\n",
      "Ratings            951\n",
      "Route_name           0\n",
      "Route_link           0\n",
      "dtype: int64\n"
     ]
    }
   ],
   "source": [
    "# Check for missing values in each column of the DataFrame\n",
    "\n",
    "# 1. df_bus.isna(): This checks the DataFrame for any missing values (NaN).\n",
    "#    It returns a DataFrame of the same shape as 'df_bus' where True indicates a missing value and False indicates a non-missing value.\n",
    "# 2. .sum(): This adds up all the True values for each column, giving the total number of missing values in each column.\n",
    "missing_values = df_bus.isnull().sum()\n",
    "\n",
    "# Print the result, which shows how many missing (NaN) values are in each column.\n",
    "print(missing_values)\n",
    "\n"
   ]
  },
  {
   "cell_type": "code",
   "execution_count": 7,
   "id": "e5df35a8",
   "metadata": {},
   "outputs": [
    {
     "name": "stderr",
     "output_type": "stream",
     "text": [
      "/var/folders/yj/8l_4gn6560scq2dktx2xb6nm0000gn/T/ipykernel_1804/760131768.py:1: FutureWarning: DataFrame.fillna with 'method' is deprecated and will raise in a future version. Use obj.ffill() or obj.bfill() instead.\n",
      "  df_bus.fillna(method='ffill', inplace=True)  # Forward fill\n",
      "/var/folders/yj/8l_4gn6560scq2dktx2xb6nm0000gn/T/ipykernel_1804/760131768.py:2: FutureWarning: DataFrame.fillna with 'method' is deprecated and will raise in a future version. Use obj.ffill() or obj.bfill() instead.\n",
      "  df_bus.fillna(method='bfill', inplace=True)  # Backward fill\n"
     ]
    }
   ],
   "source": [
    "df_bus.fillna(method='ffill', inplace=True)  # Forward fill\n",
    "df_bus.fillna(method='bfill', inplace=True)  # Backward fill\n"
   ]
  },
  {
   "cell_type": "code",
   "execution_count": 8,
   "id": "3982795a",
   "metadata": {},
   "outputs": [
    {
     "name": "stdout",
     "output_type": "stream",
     "text": [
      "Bus_name           0\n",
      "Bus_type           0\n",
      "Start_time         0\n",
      "End_time           0\n",
      "Total_duration     0\n",
      "Price              0\n",
      "Seats_Available    0\n",
      "Ratings            0\n",
      "Route_name         0\n",
      "Route_link         0\n",
      "dtype: int64\n"
     ]
    }
   ],
   "source": [
    "# Check for missing values in each column of the DataFrame\n",
    "\n",
    "# 1. df_bus.isna(): This checks the DataFrame for any missing values (NaN).\n",
    "#    It returns a DataFrame of the same shape as 'df_bus' where True indicates a missing value and False indicates a non-missing value.\n",
    "# 2. .sum(): This adds up all the True values for each column, giving the total number of missing values in each column.\n",
    "missing_values = df_bus.isnull().sum()\n",
    "\n",
    "# Print the result, which shows how many missing (NaN) values are in each column.\n",
    "print(missing_values)"
   ]
  },
  {
   "cell_type": "code",
   "execution_count": 9,
   "id": "4c51cc2d-c922-493d-9453-2965a4e69344",
   "metadata": {},
   "outputs": [
    {
     "name": "stdout",
     "output_type": "stream",
     "text": [
      "The DataFrame has 2461 rows and 10 columns.\n"
     ]
    }
   ],
   "source": [
    "# Get the shape of the DataFrame (number of rows and columns)\n",
    "data_shape = df_bus.shape\n",
    "\n",
    "# Print the shape\n",
    "print(f\"The DataFrame has {data_shape[0]} rows and {data_shape[1]} columns.\")\n"
   ]
  },
  {
   "cell_type": "code",
   "execution_count": 10,
   "id": "5973c6bf-68c7-4be2-8e4d-2cd560e64347",
   "metadata": {},
   "outputs": [
    {
     "name": "stdout",
     "output_type": "stream",
     "text": [
      "['https://www.redbus.in/bus-tickets/bangalore-to-kozhikode'\n",
      " 'https://www.redbus.in/bus-tickets/kozhikode-to-ernakulam'\n",
      " 'https://www.redbus.in/bus-tickets/kozhikode-to-bangalore'\n",
      " 'https://www.redbus.in/bus-tickets/ernakulam-to-kozhikode'\n",
      " 'https://www.redbus.in/bus-tickets/mysore-to-kozhikode'\n",
      " 'https://www.redbus.in/bus-tickets/kozhikode-to-mysore'\n",
      " 'https://www.redbus.in/bus-tickets/kozhikode-to-thrissur'\n",
      " 'https://www.redbus.in/bus-tickets/kozhikode-to-thiruvananthapuram'\n",
      " 'https://www.redbus.in/bus-tickets/kozhikode-to-kottayam'\n",
      " 'https://www.redbus.in/bus-tickets/thrissur-to-kozhikode'\n",
      " 'https://www.redbus.in/bus-tickets/bangalore-to-kalpetta'\n",
      " 'https://www.redbus.in/bus-tickets/bangalore-to-kannur'\n",
      " 'https://www.redbus.in/bus-tickets/kalpetta-to-bangalore'\n",
      " 'https://www.redbus.in/bus-tickets/kottayam-to-kozhikode'\n",
      " 'https://www.redbus.in/bus-tickets/kannur-to-bangalore'\n",
      " 'https://www.redbus.in/bus-tickets/kozhikode-to-aluva'\n",
      " 'https://www.redbus.in/bus-tickets/vijayawada-to-hyderabad'\n",
      " 'https://www.redbus.in/bus-tickets/kakinada-to-visakhapatnam'\n",
      " 'https://www.redbus.in/bus-tickets/tirupathi-to-bangalore'\n",
      " 'https://www.redbus.in/bus-tickets/kadapa-to-bangalore'\n",
      " 'https://www.redbus.in/bus-tickets/hyderabad-to-ongole'\n",
      " 'https://www.redbus.in/bus-tickets/visakhapatnam-to-kakinada'\n",
      " 'https://www.redbus.in/bus-tickets/kadiri-to-bangalore'\n",
      " 'https://www.redbus.in/bus-tickets/vinukonda-to-hyderabad'\n",
      " 'https://www.redbus.in/bus-tickets/bangalore-to-kadiri'\n",
      " 'https://www.redbus.in/bus-tickets/hyderabad-to-narsaraopet'\n",
      " 'https://www.redbus.in/bus-tickets/rajahmundry-to-visakhapatnam'\n",
      " 'https://www.redbus.in/bus-tickets/eluru-to-hyderabad'\n",
      " 'https://www.redbus.in/bus-tickets/chennai-to-tirupathi'\n",
      " 'https://www.redbus.in/bus-tickets/guntur-to-hyderabad'\n",
      " 'https://www.redbus.in/bus-tickets/rayachoti-to-bangalore'\n",
      " 'https://www.redbus.in/bus-tickets/tirupathi-to-chennai'\n",
      " 'https://www.redbus.in/bus-tickets/visakhapatnam-to-vijayawada'\n",
      " 'https://www.redbus.in/bus-tickets/rajahmundry-to-vijayawada'\n",
      " 'https://www.redbus.in/bus-tickets/hyderabad-to-guntur'\n",
      " 'https://www.redbus.in/bus-tickets/macherla-to-hyderabad'\n",
      " 'https://www.redbus.in/bus-tickets/nandyala-to-hyderabad'\n",
      " 'https://www.redbus.in/bus-tickets/hyderabad-to-eluru'\n",
      " 'https://www.redbus.in/bus-tickets/bangalore-to-rayachoti'\n",
      " 'https://www.redbus.in/bus-tickets/kurnool-to-hyderabad'\n",
      " 'https://www.redbus.in/bus-tickets/hyderabad-to-vinukonda'\n",
      " 'https://www.redbus.in/bus-tickets/vijayawada-to-visakhapatnam'\n",
      " 'https://www.redbus.in/bus-tickets/kurnool-to-bangalore'\n",
      " 'https://www.redbus.in/bus-tickets/rajahmundry-to-hyderabad'\n",
      " 'https://www.redbus.in/bus-tickets/amalapuram-to-visakhapatnam'\n",
      " 'https://www.redbus.in/bus-tickets/kurnool-to-vijayawada'\n",
      " 'https://www.redbus.in/bus-tickets/visakhapatnam-to-rajahmundry'\n",
      " 'https://www.redbus.in/bus-tickets/hyderabad-to-macherla'\n",
      " 'https://www.redbus.in/bus-tickets/nellore-to-bangalore'\n",
      " 'https://www.redbus.in/bus-tickets/tadipatri-to-bangalore'\n",
      " 'https://www.redbus.in/bus-tickets/kakinada-to-vijayawada'\n",
      " 'https://www.redbus.in/bus-tickets/visakhapatnam-to-amalapuram'\n",
      " 'https://www.redbus.in/bus-tickets/hyderabad-to-markapuram'\n",
      " 'https://www.redbus.in/bus-tickets/hyderabad-to-nandyala'\n",
      " 'https://www.redbus.in/bus-tickets/tezpur-to-guwahati'\n",
      " 'https://www.redbus.in/bus-tickets/tinsukia-to-jorhat'\n",
      " 'https://www.redbus.in/bus-tickets/guwahati-to-kaliabor'\n",
      " 'https://www.redbus.in/bus-tickets/dergaon-to-dibrugarh'\n",
      " 'https://www.redbus.in/bus-tickets/chandigarh-to-delhi'\n",
      " 'https://www.redbus.in/bus-tickets/yamuna-nagar-to-chandigarh'\n",
      " 'https://www.redbus.in/bus-tickets/ludhiana-to-chandigarh'\n",
      " 'https://www.redbus.in/bus-tickets/chandigarh-to-yamuna-nagar'\n",
      " 'https://www.redbus.in/bus-tickets/chandigarh-to-hamirpur-himachal-pradesh'\n",
      " 'https://www.redbus.in/bus-tickets/chandigarh-to-baijnath'\n",
      " 'https://www.redbus.in/bus-tickets/hamirpur-himachal-pradesh-to-chandigarh'\n",
      " 'https://www.redbus.in/bus-tickets/chandigarh-to-ludhiana'\n",
      " 'https://www.redbus.in/bus-tickets/chandigarh-to-dehradun'\n",
      " 'https://www.redbus.in/bus-tickets/chandigarh-to-sujanpur'\n",
      " 'https://www.redbus.in/bus-tickets/chandigarh-to-pathankot'\n",
      " 'https://www.redbus.in/bus-tickets/dehradun-to-chandigarh'\n",
      " 'https://www.redbus.in/bus-tickets/chandigarh-to-dharamshala'\n",
      " 'https://www.redbus.in/bus-tickets/sujanpur-to-chandigarh'\n",
      " 'https://www.redbus.in/bus-tickets/chandigarh-to-shimla'\n",
      " 'https://www.redbus.in/bus-tickets/rohtak-to-chandigarh'\n",
      " 'https://www.redbus.in/bus-tickets/dharamshala-to-chandigarh'\n",
      " 'https://www.redbus.in/bus-tickets/pathankot-to-chandigarh'\n",
      " 'https://www.redbus.in/bus-tickets/baijnath-to-chandigarh'\n",
      " 'https://www.redbus.in/bus-tickets/shimla-to-chandigarh'\n",
      " 'https://www.redbus.in/bus-tickets/delhi-to-shimla'\n",
      " 'https://www.redbus.in/bus-tickets/shimla-to-delhi'\n",
      " 'https://www.redbus.in/bus-tickets/hamirpur-himachal-pradesh-to-delhi'\n",
      " 'https://www.redbus.in/bus-tickets/delhi-to-hamirpur-himachal-pradesh'\n",
      " 'https://www.redbus.in/bus-tickets/kangra-to-chandigarh'\n",
      " 'https://www.redbus.in/bus-tickets/delhi-to-chandigarh'\n",
      " 'https://www.redbus.in/bus-tickets/palampur-to-chandigarh'\n",
      " 'https://www.redbus.in/bus-tickets/chandigarh-to-palampur'\n",
      " 'https://www.redbus.in/bus-tickets/delhi-to-nalagarh'\n",
      " 'https://www.redbus.in/bus-tickets/chandigarh-to-kangra'\n",
      " 'https://www.redbus.in/bus-tickets/ghumarwin-to-chandigarh'\n",
      " 'https://www.redbus.in/bus-tickets/chandigarh-to-kullu'\n",
      " 'https://www.redbus.in/bus-tickets/manali-to-chandigarh'\n",
      " 'https://www.redbus.in/bus-tickets/delhi-to-solan'\n",
      " 'https://www.redbus.in/bus-tickets/chandigarh-to-manali'\n",
      " 'https://www.redbus.in/bus-tickets/kullu-to-shimla'\n",
      " 'https://www.redbus.in/bus-tickets/solan-to-delhi'\n",
      " 'https://www.redbus.in/bus-tickets/sundernagar-himachal-pradesh-to-chandigarh'\n",
      " 'https://www.redbus.in/bus-tickets/delhi-to-bilaspur-himachal-pradesh'\n",
      " 'https://www.redbus.in/bus-tickets/palampur-to-delhi'\n",
      " 'https://www.redbus.in/bus-tickets/delhi-to-palampur'\n",
      " 'https://www.redbus.in/bus-tickets/ghumarwin-to-delhi'\n",
      " 'https://www.redbus.in/bus-tickets/manali-to-shimla'\n",
      " 'https://www.redbus.in/bus-tickets/beawer-to-jaipur'\n",
      " 'https://www.redbus.in/bus-tickets/udaipur-to-jodhpur'\n",
      " 'https://www.redbus.in/bus-tickets/jaipur-to-jodhpur'\n",
      " 'https://www.redbus.in/bus-tickets/sikar-to-jaipur'\n",
      " 'https://www.redbus.in/bus-tickets/aligarh-uttar-pradesh-to-jaipur'\n",
      " 'https://www.redbus.in/bus-tickets/kota-rajasthan-to-jaipur'\n",
      " 'https://www.redbus.in/bus-tickets/jaipur-to-pilani'\n",
      " 'https://www.redbus.in/bus-tickets/jaipur-to-aligarh-uttar-pradesh'\n",
      " 'https://www.redbus.in/bus-tickets/kishangarh-to-jaipur'\n",
      " 'https://www.redbus.in/bus-tickets/sikar-to-bikaner'\n",
      " 'https://www.redbus.in/bus-tickets/jodhpur-to-beawer'\n",
      " 'https://www.redbus.in/bus-tickets/udaipur-to-pali-rajasthan'\n",
      " 'https://www.redbus.in/bus-tickets/jaipur-to-kota-rajasthan'\n",
      " 'https://www.redbus.in/bus-tickets/kota-rajasthan-to-udaipur'\n",
      " 'https://www.redbus.in/bus-tickets/jaipur-to-bharatpur'\n",
      " 'https://www.redbus.in/bus-tickets/jaipur-to-mathura'\n",
      " 'https://www.redbus.in/bus-tickets/bikaner-to-sikar'\n",
      " 'https://www.redbus.in/bus-tickets/pali-to-udaipur'\n",
      " 'https://www.redbus.in/bus-tickets/udaipur-to-jaipur'\n",
      " 'https://www.redbus.in/bus-tickets/durgapur-to-kolkata'\n",
      " 'https://www.redbus.in/bus-tickets/kolkata-to-burdwan'\n",
      " 'https://www.redbus.in/bus-tickets/kolkata-to-durgapur'\n",
      " 'https://www.redbus.in/bus-tickets/haldia-to-kolkata'\n",
      " 'https://www.redbus.in/bus-tickets/kolkata-to-haldia'\n",
      " 'https://www.redbus.in/bus-tickets/midnapore-to-kolkata'\n",
      " 'https://www.redbus.in/bus-tickets/kolkata-to-arambagh-west-bengal'\n",
      " 'https://www.redbus.in/bus-tickets/kolkata-to-digha'\n",
      " 'https://www.redbus.in/bus-tickets/digha-to-kolkata'\n",
      " 'https://www.redbus.in/bus-tickets/kolkata-to-bankura'\n",
      " 'https://www.redbus.in/bus-tickets/kolkata-to-asansol'\n",
      " 'https://www.redbus.in/bus-tickets/kolkata-to-midnapore'\n",
      " 'https://www.redbus.in/bus-tickets/kolkata-to-contai-kanthi'\n",
      " 'https://www.redbus.in/bus-tickets/kolkata-to-nandakumar'\n",
      " 'https://www.redbus.in/bus-tickets/kolkata-to-kolaghat'\n",
      " 'https://www.redbus.in/bus-tickets/durgapur-to-barasat-west-bengal'\n",
      " 'https://www.redbus.in/bus-tickets/midnapore-to-barasat-west-bengal'\n",
      " 'https://www.redbus.in/bus-tickets/berhampore-to-durgapur'\n",
      " 'https://www.redbus.in/bus-tickets/kolkata-to-suri'\n",
      " 'https://www.redbus.in/bus-tickets/durgapur-to-digha'\n",
      " 'https://www.redbus.in/bus-tickets/durgapur-to-berhampore'\n",
      " 'https://www.redbus.in/bus-tickets/purulia-to-durgapur'\n",
      " 'https://www.redbus.in/bus-tickets/digha-to-barasat-west-bengal'\n",
      " 'https://www.redbus.in/bus-tickets/kolkata-to-heria'\n",
      " 'https://www.redbus.in/bus-tickets/kolkata-to-bajkul-west-bengal'\n",
      " 'https://www.redbus.in/bus-tickets/barasat-west-bengal-to-midnapore'\n",
      " 'https://www.redbus.in/bus-tickets/kolkata-to-ramnagar-west-bengal'\n",
      " 'https://www.redbus.in/bus-tickets/durgapur-to-bankura'\n",
      " 'https://www.redbus.in/bus-tickets/siliguri-to-kolkata'\n",
      " 'https://www.redbus.in/bus-tickets/khammam-to-hyderabad'\n",
      " 'https://www.redbus.in/bus-tickets/hyderabad-to-vijayawada'\n",
      " 'https://www.redbus.in/bus-tickets/hyderabad-to-khammam'\n",
      " 'https://www.redbus.in/bus-tickets/karimnagar-to-hyderabad'\n",
      " 'https://www.redbus.in/bus-tickets/hyderabad-to-adilabad'\n",
      " 'https://www.redbus.in/bus-tickets/kothagudem-to-hyderabad'\n",
      " 'https://www.redbus.in/bus-tickets/hyderabad-to-mancherial'\n",
      " 'https://www.redbus.in/bus-tickets/godavarikhani-to-hyderabad'\n",
      " 'https://www.redbus.in/bus-tickets/jagityal-to-hyderabad'\n",
      " 'https://www.redbus.in/bus-tickets/hyderabad-to-nirmal'\n",
      " 'https://www.redbus.in/bus-tickets/hyderabad-to-karimnagar'\n",
      " 'https://www.redbus.in/bus-tickets/hyderabad-to-bhadrachalam'\n",
      " 'https://www.redbus.in/bus-tickets/hyderabad-to-sathupalli'\n",
      " 'https://www.redbus.in/bus-tickets/hyderabad-to-warangal'\n",
      " 'https://www.redbus.in/bus-tickets/hyderabad-to-tirupathi'\n",
      " 'https://www.redbus.in/bus-tickets/hyderabad-to-ananthapur'\n",
      " 'https://www.redbus.in/bus-tickets/hyderabad-to-armoor'\n",
      " 'https://www.redbus.in/bus-tickets/hyderabad-to-godavarikhani'\n",
      " 'https://www.redbus.in/bus-tickets/peddapalli-telangana-to-hyderabad'\n",
      " 'https://www.redbus.in/bus-tickets/hyderabad-to-kodad'\n",
      " 'https://www.redbus.in/bus-tickets/delhi-to-bareilly'\n",
      " 'https://www.redbus.in/bus-tickets/delhi-to-lucknow'\n",
      " 'https://www.redbus.in/bus-tickets/bareilly-to-delhi'\n",
      " 'https://www.redbus.in/bus-tickets/lucknow-to-gorakhpur'\n",
      " 'https://www.redbus.in/bus-tickets/delhi-to-aligarh-uttar-pradesh'\n",
      " 'https://www.redbus.in/bus-tickets/lucknow-to-delhi'\n",
      " 'https://www.redbus.in/bus-tickets/delhi-to-farrukhabad-up'\n",
      " 'https://www.redbus.in/bus-tickets/delhi-to-sitapur'\n",
      " 'https://www.redbus.in/bus-tickets/agra-to-lucknow'\n",
      " 'https://www.redbus.in/bus-tickets/delhi-to-gorakhpur'\n",
      " 'https://www.redbus.in/bus-tickets/farrukhabad-up-to-delhi'\n",
      " 'https://www.redbus.in/bus-tickets/lucknow-to-varanasi'\n",
      " 'https://www.redbus.in/bus-tickets/delhi-to-moradabad'\n",
      " 'https://www.redbus.in/bus-tickets/lucknow-to-ballia'\n",
      " 'https://www.redbus.in/bus-tickets/moradabad-to-delhi'\n",
      " 'https://www.redbus.in/bus-tickets/sitapur-to-delhi'\n",
      " 'https://www.redbus.in/bus-tickets/delhi-to-shahjahanpur'\n",
      " 'https://www.redbus.in/bus-tickets/greater-noida-to-lucknow'\n",
      " 'https://www.redbus.in/bus-tickets/kanpur-to-varanasi'\n",
      " 'https://www.redbus.in/bus-tickets/gorakhpur-to-lucknow'\n",
      " 'https://www.redbus.in/bus-tickets/delhi-to-kanpur'\n",
      " 'https://www.redbus.in/bus-tickets/delhi-to-pilibhit'\n",
      " 'https://www.redbus.in/bus-tickets/lucknow-to-mathura'\n",
      " 'https://www.redbus.in/bus-tickets/kanpur-to-bareilly'\n",
      " 'https://www.redbus.in/bus-tickets/dehradun-to-bareilly'\n",
      " 'https://www.redbus.in/bus-tickets/ballia-to-lucknow'\n",
      " 'https://www.redbus.in/bus-tickets/delhi-to-kotdwar-uttarakhand'\n",
      " 'https://www.redbus.in/bus-tickets/lucknow-to-agra'\n",
      " 'https://www.redbus.in/bus-tickets/gorakhpur-to-delhi'\n",
      " 'https://www.redbus.in/bus-tickets/bareilly-to-dehradun'\n",
      " 'https://www.redbus.in/bus-tickets/jhansi-to-kanpur'\n",
      " 'https://www.redbus.in/bus-tickets/mathura-to-lucknow'\n",
      " 'https://www.redbus.in/bus-tickets/varanasi-to-lucknow'\n",
      " 'https://www.redbus.in/bus-tickets/bareilly-to-agra'\n",
      " 'https://www.redbus.in/bus-tickets/delhi-to-haldwani'\n",
      " 'https://www.redbus.in/bus-tickets/shahjahanpur-to-delhi'\n",
      " 'https://www.redbus.in/bus-tickets/barasat-west-bengal-to-digha'\n",
      " 'https://www.redbus.in/bus-tickets/barasat-west-bengal-to-contai-kanthi'\n",
      " 'https://www.redbus.in/bus-tickets/barasat-west-bengal-to-nandakumar'\n",
      " 'https://www.redbus.in/bus-tickets/barasat-west-bengal-to-kolaghat'\n",
      " 'https://www.redbus.in/bus-tickets/barasat-west-bengal-to-durgapur'\n",
      " 'https://www.redbus.in/bus-tickets/barasat-west-bengal-to-heria'\n",
      " 'https://www.redbus.in/bus-tickets/habra-to-digha'\n",
      " 'https://www.redbus.in/bus-tickets/digha-to-habra'\n",
      " 'https://www.redbus.in/bus-tickets/barasat-west-bengal-to-burdwan'\n",
      " 'https://www.redbus.in/bus-tickets/habra-to-nandakumar'\n",
      " 'https://www.redbus.in/bus-tickets/durgapur-to-purulia'\n",
      " 'https://www.redbus.in/bus-tickets/barasat-west-bengal-to-debra'\n",
      " 'https://www.redbus.in/bus-tickets/habra-to-midnapore'\n",
      " 'https://www.redbus.in/bus-tickets/habra-to-durgapur'\n",
      " 'https://www.redbus.in/bus-tickets/kolkata-to-purulia'\n",
      " 'https://www.redbus.in/bus-tickets/barasat-west-bengal-to-asansol'\n",
      " 'https://www.redbus.in/bus-tickets/habra-to-kolaghat']\n"
     ]
    }
   ],
   "source": [
    "# Get unique values from the 'Route_link' column\n",
    "\n",
    "# df_bus['Route_link'] accesses the 'Route_link' column in the DataFrame.\n",
    "# .unique() finds all the unique (non-duplicate) values in that column.\n",
    "unique_route_links = df_bus['Route_link'].unique()\n",
    "\n",
    "# Print the unique route links to inspect them\n",
    "print(unique_route_links)\n"
   ]
  },
  {
   "cell_type": "code",
   "execution_count": 11,
   "id": "bba22a34-4e10-4b1b-9dbc-7af213fdf95b",
   "metadata": {},
   "outputs": [
    {
     "name": "stdout",
     "output_type": "stream",
     "text": [
      "<class 'pandas.core.frame.DataFrame'>\n",
      "Index: 2461 entries, 0 to 195\n",
      "Data columns (total 10 columns):\n",
      " #   Column           Non-Null Count  Dtype  \n",
      "---  ------           --------------  -----  \n",
      " 0   Bus_name         2461 non-null   object \n",
      " 1   Bus_type         2461 non-null   object \n",
      " 2   Start_time       2461 non-null   object \n",
      " 3   End_time         2461 non-null   object \n",
      " 4   Total_duration   2461 non-null   object \n",
      " 5   Price            2461 non-null   float64\n",
      " 6   Seats_Available  2461 non-null   object \n",
      " 7   Ratings          2461 non-null   object \n",
      " 8   Route_name       2461 non-null   object \n",
      " 9   Route_link       2461 non-null   object \n",
      "dtypes: float64(1), object(9)\n",
      "memory usage: 211.5+ KB\n"
     ]
    }
   ],
   "source": [
    "# Display concise summary information about the DataFrame\n",
    "df_bus.info()\n"
   ]
  },
  {
   "cell_type": "code",
   "execution_count": 12,
   "id": "5ed3044a",
   "metadata": {},
   "outputs": [],
   "source": [
    "df_bus['Seats_Available'] = pd.to_numeric(df_bus['Seats_Available'], errors='coerce')\n",
    "df_bus['Ratings'] = pd.to_numeric(df_bus['Ratings'], errors='coerce')\n"
   ]
  },
  {
   "cell_type": "code",
   "execution_count": 13,
   "id": "7150b884",
   "metadata": {},
   "outputs": [
    {
     "name": "stdout",
     "output_type": "stream",
     "text": [
      "<class 'pandas.core.frame.DataFrame'>\n",
      "Index: 2461 entries, 0 to 195\n",
      "Data columns (total 10 columns):\n",
      " #   Column           Non-Null Count  Dtype  \n",
      "---  ------           --------------  -----  \n",
      " 0   Bus_name         2461 non-null   object \n",
      " 1   Bus_type         2461 non-null   object \n",
      " 2   Start_time       2461 non-null   object \n",
      " 3   End_time         2461 non-null   object \n",
      " 4   Total_duration   2461 non-null   object \n",
      " 5   Price            2461 non-null   float64\n",
      " 6   Seats_Available  0 non-null      float64\n",
      " 7   Ratings          879 non-null    float64\n",
      " 8   Route_name       2461 non-null   object \n",
      " 9   Route_link       2461 non-null   object \n",
      "dtypes: float64(3), object(7)\n",
      "memory usage: 211.5+ KB\n"
     ]
    }
   ],
   "source": [
    "df_bus.info()"
   ]
  },
  {
   "cell_type": "markdown",
   "id": "bacd29bb-0931-4244-a3bc-361fe0e0f186",
   "metadata": {},
   "source": [
    "## TIME"
   ]
  },
  {
   "cell_type": "code",
   "execution_count": 14,
   "id": "106622cf-d8d2-44af-9273-d60627ac973d",
   "metadata": {},
   "outputs": [],
   "source": [
    "# Convert the 'Start_time' column to datetime format and then reformat it to a consistent string format (\"%H:%M\")\n",
    "\n",
    "# 1. pd.to_datetime(dfbus['Start_time'], format=\"%H:%M\"): \n",
    "#    - Converts the 'Start_time' column into a datetime object.\n",
    "#    - The format \"%H:%M\" tells pandas to interpret the time in the 'HH:MM' format (hours and minutes).\n",
    "#    - This ensures that the time values are treated as proper datetime objects for any further time-related operations.\n",
    "\n",
    "# 2. .dt.strftime(\"%H:%M\"): \n",
    "#    - After converting to datetime, the .dt accessor allows us to format the datetime object back into a string.\n",
    "#    - \"%H:%M\" specifies that we want the time formatted as 'HH:MM' (24-hour format with leading zeros for hours if necessary).\n",
    "#    - This ensures consistency in the formatting of the time values in the 'Start_time' column.\n",
    "\n",
    "df_bus['Start_time'] = pd.to_datetime(df_bus['Start_time'], format=\"%H:%M\").dt.strftime(\"%H:%M\")\n",
    "\n",
    "# The 'Start_time' column now contains consistent time strings in the 'HH:MM' format.\n"
   ]
  },
  {
   "cell_type": "code",
   "execution_count": 15,
   "id": "dc703423-34a1-4d57-b1ee-a08d04f3f26b",
   "metadata": {},
   "outputs": [],
   "source": [
    "df_bus['End_time']=pd.to_datetime(df_bus['End_time'],format=\"%H:%M\").dt.strftime('%H:%M')"
   ]
  },
  {
   "cell_type": "code",
   "execution_count": 16,
   "id": "0d113dc4-465d-44f7-98c4-45cb52ec2b94",
   "metadata": {},
   "outputs": [
    {
     "name": "stdout",
     "output_type": "stream",
     "text": [
      "<class 'pandas.core.series.Series'>\n",
      "<class 'pandas.core.series.Series'>\n"
     ]
    }
   ],
   "source": [
    "print(type(df_bus['End_time'][0]))\n",
    "print(type(df_bus['Start_time'][0]))"
   ]
  },
  {
   "cell_type": "code",
   "execution_count": 17,
   "id": "c96cef94-1d3c-4dbf-a305-3edd441b55f4",
   "metadata": {},
   "outputs": [
    {
     "data": {
      "text/plain": [
       "0      22:30\n",
       "1      21:30\n",
       "2      18:45\n",
       "3      21:45\n",
       "4      21:45\n",
       "       ...  \n",
       "191    07:15\n",
       "192    07:15\n",
       "193    07:15\n",
       "194    07:15\n",
       "195    07:15\n",
       "Name: Start_time, Length: 2461, dtype: object"
      ]
     },
     "execution_count": 17,
     "metadata": {},
     "output_type": "execute_result"
    }
   ],
   "source": [
    "df_bus['Start_time']"
   ]
  },
  {
   "cell_type": "code",
   "execution_count": 18,
   "id": "9b411319-f128-4b13-a5ac-0aea69971bda",
   "metadata": {},
   "outputs": [
    {
     "name": "stdout",
     "output_type": "stream",
     "text": [
      "Missing start times: 0\n",
      "Missing end times: 0\n"
     ]
    }
   ],
   "source": [
    "# Check for missing values in 'Start_time' column\n",
    "missing_start_time = df_bus['Start_time'].isna().sum()\n",
    "print(f\"Missing start times: {missing_start_time}\")\n",
    "\n",
    "# Check for missing values in 'End_time' column\n",
    "missing_end_time = df_bus['End_time'].isna().sum()\n",
    "print(f\"Missing end times: {missing_end_time}\")\n"
   ]
  },
  {
   "cell_type": "markdown",
   "id": "8cce12f4-1f7d-44c1-9578-0dba52e7e512",
   "metadata": {},
   "source": [
    "## RATING"
   ]
  },
  {
   "cell_type": "code",
   "execution_count": 19,
   "id": "288ee0d1-605f-43ba-9620-a884cd46fc81",
   "metadata": {},
   "outputs": [
    {
     "name": "stdout",
     "output_type": "stream",
     "text": [
      "count    879.000000\n",
      "mean       3.599772\n",
      "std        0.446423\n",
      "min        1.400000\n",
      "25%        3.300000\n",
      "50%        3.600000\n",
      "75%        3.900000\n",
      "max        4.800000\n",
      "Name: Ratings, dtype: float64\n"
     ]
    }
   ],
   "source": [
    "# Get summary statistics of the 'Ratings' column\n",
    "ratings_summary = df_bus['Ratings'].describe()\n",
    "\n",
    "# Print the summary statistics\n",
    "print(ratings_summary)\n"
   ]
  },
  {
   "cell_type": "code",
   "execution_count": 20,
   "id": "2c2382c0-278e-4b81-9459-c67ccd7adb32",
   "metadata": {},
   "outputs": [
    {
     "name": "stdout",
     "output_type": "stream",
     "text": [
      "There are 29 unique ratings.\n"
     ]
    }
   ],
   "source": [
    "# Get the number of unique ratings\n",
    "unique_ratings_count = df_bus['Ratings'].nunique()\n",
    "\n",
    "# Print the number of unique ratings\n",
    "print(f\"There are {unique_ratings_count} unique ratings.\")\n"
   ]
  },
  {
   "cell_type": "code",
   "execution_count": 21,
   "id": "d518cd75-1243-49a7-8dcd-397257516bcf",
   "metadata": {},
   "outputs": [
    {
     "name": "stdout",
     "output_type": "stream",
     "text": [
      "Unique ratings: [nan 4.3 3.7 4.1 4.2 3.5 1.4 3.6 3.9 3.1 2.8 2.4 4.5 4.  4.4 3.2 3.8 2.7\n",
      " 2.5 2.  3.4 3.3 3.  4.7 4.6 4.8 2.9 1.8 1.6 2.3]\n"
     ]
    }
   ],
   "source": [
    "# Get the unique ratings\n",
    "unique_ratings = df_bus['Ratings'].unique()\n",
    "\n",
    "# Print the unique ratings\n",
    "print(f\"Unique ratings: {unique_ratings}\")\n"
   ]
  },
  {
   "cell_type": "code",
   "execution_count": 23,
   "id": "b521f289-6b6e-49c1-b52a-34fe9f775396",
   "metadata": {},
   "outputs": [
    {
     "name": "stdout",
     "output_type": "stream",
     "text": [
      "The most frequent rating is: 3.3\n"
     ]
    }
   ],
   "source": [
    "# Get the mode (most frequent rating)\n",
    "most_frequent_rating = df_bus['Ratings'].mode()\n",
    "\n",
    "# Print the most frequent rating\n",
    "print(f\"The most frequent rating is: {most_frequent_rating[0]}\")\n"
   ]
  },
  {
   "cell_type": "code",
   "execution_count": 24,
   "id": "24870977-744c-427f-8a39-01af1859ef78",
   "metadata": {},
   "outputs": [
    {
     "name": "stdout",
     "output_type": "stream",
     "text": [
      "Ratings\n",
      "3.3    234\n",
      "3.9    170\n",
      "3.5     57\n",
      "3.6     57\n",
      "3.7     50\n",
      "3.2     39\n",
      "3.8     32\n",
      "4.0     29\n",
      "2.8     27\n",
      "4.1     25\n",
      "4.2     22\n",
      "3.1     22\n",
      "3.4     22\n",
      "4.5     21\n",
      "4.3     19\n",
      "4.4     16\n",
      "3.0      7\n",
      "4.8      6\n",
      "2.4      5\n",
      "2.3      5\n",
      "2.7      3\n",
      "4.6      3\n",
      "4.7      2\n",
      "2.5      1\n",
      "2.0      1\n",
      "1.4      1\n",
      "2.9      1\n",
      "1.8      1\n",
      "1.6      1\n",
      "Name: count, dtype: int64\n"
     ]
    }
   ],
   "source": [
    "# Count the frequency of each rating value\n",
    "ratings_count = df_bus['Ratings'].value_counts()\n",
    "\n",
    "# Print the frequency of each rating\n",
    "print(ratings_count)\n"
   ]
  },
  {
   "cell_type": "code",
   "execution_count": 25,
   "id": "5b91cb3d-b833-4b06-9a68-7867b0d23b6c",
   "metadata": {},
   "outputs": [
    {
     "name": "stdout",
     "output_type": "stream",
     "text": [
      "Number of missing ratings: 1582\n"
     ]
    }
   ],
   "source": [
    "# Count missing values (NaN) in the 'Ratings' column\n",
    "missing_ratings = df_bus['Ratings'].isna().sum()\n",
    "\n",
    "# Print the number of missing ratings\n",
    "print(f\"Number of missing ratings: {missing_ratings}\")\n"
   ]
  },
  {
   "cell_type": "code",
   "execution_count": 26,
   "id": "22aa364c",
   "metadata": {},
   "outputs": [],
   "source": [
    "df_bus['Ratings'].fillna(0, inplace=True)  # Filling with 0 if it's acceptable\n"
   ]
  },
  {
   "cell_type": "code",
   "execution_count": 27,
   "id": "0c083576",
   "metadata": {},
   "outputs": [
    {
     "name": "stdout",
     "output_type": "stream",
     "text": [
      "Number of missing ratings: 0\n"
     ]
    }
   ],
   "source": [
    "# Count missing values (NaN) in the 'Ratings' column\n",
    "missing_ratings = df_bus['Ratings'].isna().sum()\n",
    "\n",
    "# Print the number of missing ratings\n",
    "print(f\"Number of missing ratings: {missing_ratings}\")\n"
   ]
  },
  {
   "cell_type": "markdown",
   "id": "5d4f7bfd-bc9a-4113-8d03-310002d4030d",
   "metadata": {},
   "source": [
    "## BUS TYPE"
   ]
  },
  {
   "cell_type": "code",
   "execution_count": 28,
   "id": "d67dba7e-9178-4d80-b0fa-a2a93df10ee5",
   "metadata": {},
   "outputs": [
    {
     "name": "stdout",
     "output_type": "stream",
     "text": [
      "Unique bus types: ['A/C Seater / Sleeper (2+1)' 'A/C Sleeper (2+1)' 'VE A/C Sleeper (2+1)'\n",
      " 'Non A/C Seater / Sleeper (2+1)' 'NON A/C Semi Sleeper (2+2)'\n",
      " 'Bharat Benz A/C Seater /Sleeper (2+1)' 'A/C Seater/Sleeper (2+1)'\n",
      " 'A/C Semi Sleeper (2+2)' 'Super Fast Non AC Seater (2+3)'\n",
      " 'SWIFT-GARUDA A/C SEATER BUS' 'Swift Deluxe Non AC Air Bus (2+2)'\n",
      " 'AC MULTI AXLE' 'Super Express Non AC Seater Air Bus (2+2)'\n",
      " 'Bharat Benz A/C Sleeper (2+1)' 'NON AC Seater / Sleeper 2+1'\n",
      " 'NON A/C Sleeper (2+1)' 'Low Floor AC Seater 2+2'\n",
      " 'SWIFT-HYBRID NON AC SEATER CUM SLEEPER'\n",
      " 'Volvo Multi-Axle I-Shift B11R Semi Sleeper (2+2)'\n",
      " '2+1 Air Suspension A/C Seater / Sleeper'\n",
      " 'SUPER LUXURY (NON-AC, 2 + 2 PUSH BACK)'\n",
      " 'DOLPHIN CRUISE (VOLVO / SCANIA A.C Multi Axle)'\n",
      " 'AMARAVATHI (VOLVO / SCANIA A.C Multi Axle)' 'INDRA(A.C. Seater)'\n",
      " 'VENNELA (A.C. SLEEPER)' 'Electric A/C Seater (2+2)' 'METRO LUXURY A/C'\n",
      " 'Express(Non AC Seater)' 'SAPTAGIRI EXPRESS' 'A/C Seater (2+2)'\n",
      " 'ULTRA DELUXE (NON-AC, 2+2 PUSH BACK)' 'NON A/C Seater/ Sleeper (2+1)'\n",
      " 'Volvo Multi-Axle A/C Sleeper (2+1)'\n",
      " 'Volvo Multi Axle A/C Sleeper I-Shift B11R (2+1)'\n",
      " 'NON A/C Semi Sleeper / Sleeper (2+1)'\n",
      " 'Lahari Non A/C Sleeper Cum Seater' 'Electric A/C Seater/Sleeper (2+1)'\n",
      " 'NIGHT RIDER (SEATER CUM SLEEPER)' 'Volvo 9600 A/C Seater/Sleeper (2+1)'\n",
      " 'AC Sleeper (2+1)' 'Volvo 9600 Multi-Axle A/C Sleeper (2+1)'\n",
      " 'Super Luxury (Non AC Seater 2+2 Push Back)'\n",
      " 'Bharat Benz A/C Seater (2+2)' 'Volvo AC Seater 2+2'\n",
      " 'Tata A/C Seater (2+2)' 'A/C Seater Push Back (2+2)' 'AC Seater (2+2)'\n",
      " 'A/C Seater (2+1)' 'NON A/C Seater (2+1)' 'Non AC Seater (2+2)'\n",
      " 'Volvo AC Seater Pushback 2+2' 'NON A/C Seater (2+2)'\n",
      " 'NON A/C Seater Push Back (2+1)' 'HVAC Seater (2+3)'\n",
      " 'Volvo A/C Semi Sleeper (2+2)' 'Volvo 9600 A/C Semi Sleeper (2+2)'\n",
      " 'VE A/C Seater / Sleeper (2+1)' 'Mercedes Multi-Axle Semi Sleeper (2+2)'\n",
      " 'Ordinary 3+2 Non AC Seater' 'A/C Executive (2+3)'\n",
      " 'Himsuta AC Seater Volvo/Scania 2+2'\n",
      " 'Super Luxury Volvo AC Seater Pushback 2+2' 'Volvo A/C Seater (2+2)'\n",
      " 'Himmani Deluxe 2+2 Non AC Seater' 'Bharat Benz A/C Semi Sleeper (2+2)'\n",
      " 'Scania Multi-Axle AC Semi Sleeper (2+2)' 'Bharat Benz (2+2)'\n",
      " 'Express Non AC Seater 2+3' 'Deluxe AC Seater 2+2'\n",
      " 'Semi Deluxe Non AC Seater 2+2' 'Bharat Benz A/C Seater (2+1)'\n",
      " 'Non AC Seater (2+3)' 'Volvo 9600 Multi Axle Semi-Sleeper (2+2)'\n",
      " 'VE A/C Seater (2+2)' 'A/C Seater / Sleeper (2+2)'\n",
      " 'A/C Seater Push Back (2+3)' 'AC Seater (2+3)' 'Non AC Seater 2+2'\n",
      " 'NON A/C Seater Push Back (2+2)' 'Rajdhani (AC Semi Sleeper 2+2)'\n",
      " 'RAJDHANI (A.C. Semi Sleeper)' 'Scania AC Multi Axle Sleeper (2+1)'\n",
      " 'GARUDA PLUS (VOLVO / BENZ A.C Multi Axle)'\n",
      " 'LAHARI A/C SLEEPER CUM SEATER' 'Ordinary Non AC Seater 2+3'\n",
      " 'Shatabdi AC Seater 2+2' 'Rajdhani Non AC Seater 2+3'\n",
      " 'Janrath AC Seater 2+2' 'Janrath AC Seater 2+3'\n",
      " 'Pink Express AC Seater 2+2' 'Volvo AC Seater (2+2)']\n"
     ]
    }
   ],
   "source": [
    "# Get the unique bus types\n",
    "unique_bus_types = df_bus['Bus_type'].unique()\n",
    "\n",
    "# Print the unique bus types\n",
    "print(f\"Unique bus types: {unique_bus_types}\")\n"
   ]
  },
  {
   "cell_type": "code",
   "execution_count": 29,
   "id": "79e16791-1c69-4014-bb88-d00869774e09",
   "metadata": {},
   "outputs": [
    {
     "name": "stdout",
     "output_type": "stream",
     "text": [
      "There are 91 unique bus types.\n"
     ]
    }
   ],
   "source": [
    "# Count the number of unique bus types\n",
    "unique_bus_types_count = df_bus['Bus_type'].nunique()\n",
    "\n",
    "# Print the count of unique bus types\n",
    "print(f\"There are {unique_bus_types_count} unique bus types.\")\n"
   ]
  },
  {
   "cell_type": "code",
   "execution_count": 30,
   "id": "3ceafdda-4d8b-4ac3-9a6f-6f0aa85c8ba7",
   "metadata": {},
   "outputs": [
    {
     "name": "stdout",
     "output_type": "stream",
     "text": [
      "Bus_type\n",
      "Non AC Seater (2+3)                        369\n",
      "Ordinary 3+2 Non AC Seater                 242\n",
      "SUPER LUXURY (NON-AC, 2 + 2 PUSH BACK)     242\n",
      "Ordinary Non AC Seater 2+3                 196\n",
      "Himsuta AC Seater Volvo/Scania 2+2         149\n",
      "                                          ... \n",
      "Non AC Seater 2+2                            1\n",
      "2+1 Air Suspension A/C Seater / Sleeper      1\n",
      "Volvo Multi-Axle A/C Sleeper (2+1)           1\n",
      "SWIFT-GARUDA A/C SEATER BUS                  1\n",
      "SWIFT-HYBRID NON AC SEATER CUM SLEEPER       1\n",
      "Name: count, Length: 91, dtype: int64\n"
     ]
    }
   ],
   "source": [
    "# Get the frequency of each bus type\n",
    "bus_type_counts = df_bus['Bus_type'].value_counts()\n",
    "\n",
    "# Print the frequency of each bus type\n",
    "print(bus_type_counts)\n"
   ]
  },
  {
   "cell_type": "code",
   "execution_count": 31,
   "id": "9c90efb5-1d34-4a39-ba27-225bfbe1d481",
   "metadata": {},
   "outputs": [
    {
     "name": "stdout",
     "output_type": "stream",
     "text": [
      "Number of missing bus types: 0\n"
     ]
    }
   ],
   "source": [
    "# Count the missing values (NaN) in the 'Bus_type' column\n",
    "missing_bus_types = df_bus['Bus_type'].isna().sum()\n",
    "\n",
    "# Print the number of missing bus types\n",
    "print(f\"Number of missing bus types: {missing_bus_types}\")\n"
   ]
  },
  {
   "cell_type": "code",
   "execution_count": 32,
   "id": "5538de0e-500e-4bdc-9ad3-1d065611cb67",
   "metadata": {},
   "outputs": [
    {
     "name": "stdout",
     "output_type": "stream",
     "text": [
      "The most common bus type is: Non AC Seater (2+3)\n"
     ]
    }
   ],
   "source": [
    "# Get the most common bus type\n",
    "most_common_bus_type = df_bus['Bus_type'].mode()\n",
    "\n",
    "# Print the most common bus type\n",
    "print(f\"The most common bus type is: {most_common_bus_type[0]}\")\n"
   ]
  },
  {
   "cell_type": "code",
   "execution_count": 33,
   "id": "88e94583-60fb-4eac-9be5-ac7cd746f20c",
   "metadata": {},
   "outputs": [
    {
     "data": {
      "text/html": [
       "<div>\n",
       "<style scoped>\n",
       "    .dataframe tbody tr th:only-of-type {\n",
       "        vertical-align: middle;\n",
       "    }\n",
       "\n",
       "    .dataframe tbody tr th {\n",
       "        vertical-align: top;\n",
       "    }\n",
       "\n",
       "    .dataframe thead th {\n",
       "        text-align: right;\n",
       "    }\n",
       "</style>\n",
       "<table border=\"1\" class=\"dataframe\">\n",
       "  <thead>\n",
       "    <tr style=\"text-align: right;\">\n",
       "      <th></th>\n",
       "      <th>Bus_name</th>\n",
       "      <th>Bus_type</th>\n",
       "      <th>Start_time</th>\n",
       "      <th>End_time</th>\n",
       "      <th>Total_duration</th>\n",
       "      <th>Price</th>\n",
       "      <th>Seats_Available</th>\n",
       "      <th>Ratings</th>\n",
       "      <th>Route_name</th>\n",
       "      <th>Route_link</th>\n",
       "    </tr>\n",
       "  </thead>\n",
       "  <tbody>\n",
       "    <tr>\n",
       "      <th>98</th>\n",
       "      <td>Galaxy Tours</td>\n",
       "      <td>2+1 Air Suspension A/C Seater / Sleeper</td>\n",
       "      <td>21:45</td>\n",
       "      <td>06:30</td>\n",
       "      <td>08h 45m</td>\n",
       "      <td>650.00</td>\n",
       "      <td>NaN</td>\n",
       "      <td>0.0</td>\n",
       "      <td>Kozhikode to Thiruvananthapuram</td>\n",
       "      <td>https://www.redbus.in/bus-tickets/kozhikode-to...</td>\n",
       "    </tr>\n",
       "    <tr>\n",
       "      <th>14</th>\n",
       "      <td>HRTC - 591</td>\n",
       "      <td>A/C Executive (2+3)</td>\n",
       "      <td>21:00</td>\n",
       "      <td>07:20</td>\n",
       "      <td>10h 20m</td>\n",
       "      <td>632.00</td>\n",
       "      <td>NaN</td>\n",
       "      <td>0.0</td>\n",
       "      <td>Delhi to Shimla</td>\n",
       "      <td>https://www.redbus.in/bus-tickets/delhi-to-shimla</td>\n",
       "    </tr>\n",
       "    <tr>\n",
       "      <th>35</th>\n",
       "      <td>HRTC - 9236</td>\n",
       "      <td>A/C Executive (2+3)</td>\n",
       "      <td>12:05</td>\n",
       "      <td>16:10</td>\n",
       "      <td>04h 05m</td>\n",
       "      <td>340.00</td>\n",
       "      <td>NaN</td>\n",
       "      <td>0.0</td>\n",
       "      <td>Chandigarh to Hamirpur (Himachal Pradesh)</td>\n",
       "      <td>https://www.redbus.in/bus-tickets/chandigarh-t...</td>\n",
       "    </tr>\n",
       "    <tr>\n",
       "      <th>125</th>\n",
       "      <td>HRTC - 6754</td>\n",
       "      <td>A/C Executive (2+3)</td>\n",
       "      <td>12:00</td>\n",
       "      <td>18:40</td>\n",
       "      <td>06h 40m</td>\n",
       "      <td>462.00</td>\n",
       "      <td>NaN</td>\n",
       "      <td>0.0</td>\n",
       "      <td>Delhi to Nalagarh</td>\n",
       "      <td>https://www.redbus.in/bus-tickets/delhi-to-nal...</td>\n",
       "    </tr>\n",
       "    <tr>\n",
       "      <th>124</th>\n",
       "      <td>HRTC - 6754</td>\n",
       "      <td>A/C Executive (2+3)</td>\n",
       "      <td>12:00</td>\n",
       "      <td>18:40</td>\n",
       "      <td>06h 40m</td>\n",
       "      <td>462.00</td>\n",
       "      <td>NaN</td>\n",
       "      <td>0.0</td>\n",
       "      <td>Delhi to Nalagarh</td>\n",
       "      <td>https://www.redbus.in/bus-tickets/delhi-to-nal...</td>\n",
       "    </tr>\n",
       "    <tr>\n",
       "      <th>...</th>\n",
       "      <td>...</td>\n",
       "      <td>...</td>\n",
       "      <td>...</td>\n",
       "      <td>...</td>\n",
       "      <td>...</td>\n",
       "      <td>...</td>\n",
       "      <td>...</td>\n",
       "      <td>...</td>\n",
       "      <td>...</td>\n",
       "      <td>...</td>\n",
       "    </tr>\n",
       "    <tr>\n",
       "      <th>33</th>\n",
       "      <td>Chartered Bus - ASTC</td>\n",
       "      <td>Volvo AC Seater Pushback 2+2</td>\n",
       "      <td>06:15</td>\n",
       "      <td>10:00</td>\n",
       "      <td>03h 45m</td>\n",
       "      <td>324.47</td>\n",
       "      <td>NaN</td>\n",
       "      <td>0.0</td>\n",
       "      <td>Guwahati to Kaliabor</td>\n",
       "      <td>https://www.redbus.in/bus-tickets/guwahati-to-...</td>\n",
       "    </tr>\n",
       "    <tr>\n",
       "      <th>94</th>\n",
       "      <td>Kaveri Travels</td>\n",
       "      <td>Volvo Multi Axle A/C Sleeper I-Shift B11R (2+1)</td>\n",
       "      <td>21:30</td>\n",
       "      <td>05:45</td>\n",
       "      <td>08h 15m</td>\n",
       "      <td>719.00</td>\n",
       "      <td>NaN</td>\n",
       "      <td>0.0</td>\n",
       "      <td>Hyderabad to Ongole</td>\n",
       "      <td>https://www.redbus.in/bus-tickets/hyderabad-to...</td>\n",
       "    </tr>\n",
       "    <tr>\n",
       "      <th>93</th>\n",
       "      <td>V Kaveri Travels</td>\n",
       "      <td>Volvo Multi-Axle A/C Sleeper (2+1)</td>\n",
       "      <td>21:30</td>\n",
       "      <td>05:45</td>\n",
       "      <td>08h 15m</td>\n",
       "      <td>900.00</td>\n",
       "      <td>NaN</td>\n",
       "      <td>0.0</td>\n",
       "      <td>Hyderabad to Ongole</td>\n",
       "      <td>https://www.redbus.in/bus-tickets/hyderabad-to...</td>\n",
       "    </tr>\n",
       "    <tr>\n",
       "      <th>111</th>\n",
       "      <td>Madhavi Travels</td>\n",
       "      <td>Volvo Multi-Axle I-Shift B11R Semi Sleeper (2+2)</td>\n",
       "      <td>23:30</td>\n",
       "      <td>04:50</td>\n",
       "      <td>05h 20m</td>\n",
       "      <td>899.00</td>\n",
       "      <td>NaN</td>\n",
       "      <td>4.0</td>\n",
       "      <td>Kozhikode to Kottayam</td>\n",
       "      <td>https://www.redbus.in/bus-tickets/kozhikode-to...</td>\n",
       "    </tr>\n",
       "    <tr>\n",
       "      <th>94</th>\n",
       "      <td>Madhavi Travels</td>\n",
       "      <td>Volvo Multi-Axle I-Shift B11R Semi Sleeper (2+2)</td>\n",
       "      <td>23:30</td>\n",
       "      <td>07:30</td>\n",
       "      <td>08h 00m</td>\n",
       "      <td>899.00</td>\n",
       "      <td>NaN</td>\n",
       "      <td>0.0</td>\n",
       "      <td>Kozhikode to Thiruvananthapuram</td>\n",
       "      <td>https://www.redbus.in/bus-tickets/kozhikode-to...</td>\n",
       "    </tr>\n",
       "  </tbody>\n",
       "</table>\n",
       "<p>2461 rows × 10 columns</p>\n",
       "</div>"
      ],
      "text/plain": [
       "                 Bus_name                                          Bus_type  \\\n",
       "98           Galaxy Tours           2+1 Air Suspension A/C Seater / Sleeper   \n",
       "14             HRTC - 591                               A/C Executive (2+3)   \n",
       "35            HRTC - 9236                               A/C Executive (2+3)   \n",
       "125           HRTC - 6754                               A/C Executive (2+3)   \n",
       "124           HRTC - 6754                               A/C Executive (2+3)   \n",
       "..                    ...                                               ...   \n",
       "33   Chartered Bus - ASTC                      Volvo AC Seater Pushback 2+2   \n",
       "94         Kaveri Travels   Volvo Multi Axle A/C Sleeper I-Shift B11R (2+1)   \n",
       "93       V Kaveri Travels                Volvo Multi-Axle A/C Sleeper (2+1)   \n",
       "111       Madhavi Travels  Volvo Multi-Axle I-Shift B11R Semi Sleeper (2+2)   \n",
       "94        Madhavi Travels  Volvo Multi-Axle I-Shift B11R Semi Sleeper (2+2)   \n",
       "\n",
       "    Start_time End_time Total_duration   Price  Seats_Available  Ratings  \\\n",
       "98       21:45    06:30        08h 45m  650.00              NaN      0.0   \n",
       "14       21:00    07:20        10h 20m  632.00              NaN      0.0   \n",
       "35       12:05    16:10        04h 05m  340.00              NaN      0.0   \n",
       "125      12:00    18:40        06h 40m  462.00              NaN      0.0   \n",
       "124      12:00    18:40        06h 40m  462.00              NaN      0.0   \n",
       "..         ...      ...            ...     ...              ...      ...   \n",
       "33       06:15    10:00        03h 45m  324.47              NaN      0.0   \n",
       "94       21:30    05:45        08h 15m  719.00              NaN      0.0   \n",
       "93       21:30    05:45        08h 15m  900.00              NaN      0.0   \n",
       "111      23:30    04:50        05h 20m  899.00              NaN      4.0   \n",
       "94       23:30    07:30        08h 00m  899.00              NaN      0.0   \n",
       "\n",
       "                                    Route_name  \\\n",
       "98             Kozhikode to Thiruvananthapuram   \n",
       "14                             Delhi to Shimla   \n",
       "35   Chandigarh to Hamirpur (Himachal Pradesh)   \n",
       "125                          Delhi to Nalagarh   \n",
       "124                          Delhi to Nalagarh   \n",
       "..                                         ...   \n",
       "33                        Guwahati to Kaliabor   \n",
       "94                         Hyderabad to Ongole   \n",
       "93                         Hyderabad to Ongole   \n",
       "111                      Kozhikode to Kottayam   \n",
       "94             Kozhikode to Thiruvananthapuram   \n",
       "\n",
       "                                            Route_link  \n",
       "98   https://www.redbus.in/bus-tickets/kozhikode-to...  \n",
       "14   https://www.redbus.in/bus-tickets/delhi-to-shimla  \n",
       "35   https://www.redbus.in/bus-tickets/chandigarh-t...  \n",
       "125  https://www.redbus.in/bus-tickets/delhi-to-nal...  \n",
       "124  https://www.redbus.in/bus-tickets/delhi-to-nal...  \n",
       "..                                                 ...  \n",
       "33   https://www.redbus.in/bus-tickets/guwahati-to-...  \n",
       "94   https://www.redbus.in/bus-tickets/hyderabad-to...  \n",
       "93   https://www.redbus.in/bus-tickets/hyderabad-to...  \n",
       "111  https://www.redbus.in/bus-tickets/kozhikode-to...  \n",
       "94   https://www.redbus.in/bus-tickets/kozhikode-to...  \n",
       "\n",
       "[2461 rows x 10 columns]"
      ]
     },
     "execution_count": 33,
     "metadata": {},
     "output_type": "execute_result"
    }
   ],
   "source": [
    "# Sort the data by 'Bus_type'\n",
    "sorted_buses = df_bus.sort_values(by='Bus_type')\n",
    "\n",
    "# Print the sorted DataFrame\n",
    "sorted_buses\n"
   ]
  },
  {
   "cell_type": "markdown",
   "id": "1031fad6-e805-4b60-98e2-a710f43642b5",
   "metadata": {},
   "source": [
    "## PRICE "
   ]
  },
  {
   "cell_type": "code",
   "execution_count": 34,
   "id": "9f9805d0",
   "metadata": {},
   "outputs": [
    {
     "data": {
      "text/html": [
       "<div>\n",
       "<style scoped>\n",
       "    .dataframe tbody tr th:only-of-type {\n",
       "        vertical-align: middle;\n",
       "    }\n",
       "\n",
       "    .dataframe tbody tr th {\n",
       "        vertical-align: top;\n",
       "    }\n",
       "\n",
       "    .dataframe thead th {\n",
       "        text-align: right;\n",
       "    }\n",
       "</style>\n",
       "<table border=\"1\" class=\"dataframe\">\n",
       "  <thead>\n",
       "    <tr style=\"text-align: right;\">\n",
       "      <th></th>\n",
       "      <th>Bus_type</th>\n",
       "      <th>Price</th>\n",
       "    </tr>\n",
       "  </thead>\n",
       "  <tbody>\n",
       "    <tr>\n",
       "      <th>0</th>\n",
       "      <td>2+1 Air Suspension A/C Seater / Sleeper</td>\n",
       "      <td>650.000000</td>\n",
       "    </tr>\n",
       "    <tr>\n",
       "      <th>1</th>\n",
       "      <td>A/C Executive (2+3)</td>\n",
       "      <td>458.500000</td>\n",
       "    </tr>\n",
       "    <tr>\n",
       "      <th>2</th>\n",
       "      <td>A/C Seater (2+1)</td>\n",
       "      <td>361.760000</td>\n",
       "    </tr>\n",
       "    <tr>\n",
       "      <th>3</th>\n",
       "      <td>A/C Seater (2+2)</td>\n",
       "      <td>481.400000</td>\n",
       "    </tr>\n",
       "    <tr>\n",
       "      <th>4</th>\n",
       "      <td>A/C Seater / Sleeper (2+1)</td>\n",
       "      <td>712.542373</td>\n",
       "    </tr>\n",
       "    <tr>\n",
       "      <th>...</th>\n",
       "      <td>...</td>\n",
       "      <td>...</td>\n",
       "    </tr>\n",
       "    <tr>\n",
       "      <th>86</th>\n",
       "      <td>Volvo AC Seater 2+2</td>\n",
       "      <td>278.500000</td>\n",
       "    </tr>\n",
       "    <tr>\n",
       "      <th>87</th>\n",
       "      <td>Volvo AC Seater Pushback 2+2</td>\n",
       "      <td>360.585000</td>\n",
       "    </tr>\n",
       "    <tr>\n",
       "      <th>88</th>\n",
       "      <td>Volvo Multi Axle A/C Sleeper I-Shift B11R (2+1)</td>\n",
       "      <td>719.000000</td>\n",
       "    </tr>\n",
       "    <tr>\n",
       "      <th>89</th>\n",
       "      <td>Volvo Multi-Axle A/C Sleeper (2+1)</td>\n",
       "      <td>900.000000</td>\n",
       "    </tr>\n",
       "    <tr>\n",
       "      <th>90</th>\n",
       "      <td>Volvo Multi-Axle I-Shift B11R Semi Sleeper (2+2)</td>\n",
       "      <td>899.000000</td>\n",
       "    </tr>\n",
       "  </tbody>\n",
       "</table>\n",
       "<p>91 rows × 2 columns</p>\n",
       "</div>"
      ],
      "text/plain": [
       "                                            Bus_type       Price\n",
       "0            2+1 Air Suspension A/C Seater / Sleeper  650.000000\n",
       "1                                A/C Executive (2+3)  458.500000\n",
       "2                                   A/C Seater (2+1)  361.760000\n",
       "3                                   A/C Seater (2+2)  481.400000\n",
       "4                         A/C Seater / Sleeper (2+1)  712.542373\n",
       "..                                               ...         ...\n",
       "86                               Volvo AC Seater 2+2  278.500000\n",
       "87                      Volvo AC Seater Pushback 2+2  360.585000\n",
       "88   Volvo Multi Axle A/C Sleeper I-Shift B11R (2+1)  719.000000\n",
       "89                Volvo Multi-Axle A/C Sleeper (2+1)  900.000000\n",
       "90  Volvo Multi-Axle I-Shift B11R Semi Sleeper (2+2)  899.000000\n",
       "\n",
       "[91 rows x 2 columns]"
      ]
     },
     "execution_count": 34,
     "metadata": {},
     "output_type": "execute_result"
    }
   ],
   "source": [
    "# Average price by bus type\n",
    "avg_price_by_type = df_bus.groupby('Bus_type')['Price'].mean().reset_index()\n",
    "\n",
    "\n",
    "\n",
    "avg_price_by_type\n"
   ]
  },
  {
   "cell_type": "code",
   "execution_count": 36,
   "id": "f5f6c1d1",
   "metadata": {},
   "outputs": [
    {
     "data": {
      "text/html": [
       "<div>\n",
       "<style scoped>\n",
       "    .dataframe tbody tr th:only-of-type {\n",
       "        vertical-align: middle;\n",
       "    }\n",
       "\n",
       "    .dataframe tbody tr th {\n",
       "        vertical-align: top;\n",
       "    }\n",
       "\n",
       "    .dataframe thead th {\n",
       "        text-align: right;\n",
       "    }\n",
       "</style>\n",
       "<table border=\"1\" class=\"dataframe\">\n",
       "  <thead>\n",
       "    <tr style=\"text-align: right;\">\n",
       "      <th></th>\n",
       "      <th>Route_name</th>\n",
       "      <th>Price</th>\n",
       "    </tr>\n",
       "  </thead>\n",
       "  <tbody>\n",
       "    <tr>\n",
       "      <th>0</th>\n",
       "      <td>Agra to Lucknow</td>\n",
       "      <td>580.60</td>\n",
       "    </tr>\n",
       "    <tr>\n",
       "      <th>1</th>\n",
       "      <td>Aligarh (uttar pradesh) to Jaipur (Rajasthan)</td>\n",
       "      <td>395.30</td>\n",
       "    </tr>\n",
       "    <tr>\n",
       "      <th>2</th>\n",
       "      <td>Amalapuram to Visakhapatnam</td>\n",
       "      <td>386.00</td>\n",
       "    </tr>\n",
       "    <tr>\n",
       "      <th>3</th>\n",
       "      <td>Baijnath to Chandigarh</td>\n",
       "      <td>529.10</td>\n",
       "    </tr>\n",
       "    <tr>\n",
       "      <th>4</th>\n",
       "      <td>Ballia (Uttar Pradesh) to Lucknow</td>\n",
       "      <td>688.50</td>\n",
       "    </tr>\n",
       "    <tr>\n",
       "      <th>...</th>\n",
       "      <td>...</td>\n",
       "      <td>...</td>\n",
       "    </tr>\n",
       "    <tr>\n",
       "      <th>217</th>\n",
       "      <td>Visakhapatnam to Amalapuram</td>\n",
       "      <td>355.00</td>\n",
       "    </tr>\n",
       "    <tr>\n",
       "      <th>218</th>\n",
       "      <td>Visakhapatnam to Kakinada</td>\n",
       "      <td>504.64</td>\n",
       "    </tr>\n",
       "    <tr>\n",
       "      <th>219</th>\n",
       "      <td>Visakhapatnam to Rajahmundry</td>\n",
       "      <td>477.00</td>\n",
       "    </tr>\n",
       "    <tr>\n",
       "      <th>220</th>\n",
       "      <td>Visakhapatnam to Vijayawada</td>\n",
       "      <td>741.20</td>\n",
       "    </tr>\n",
       "    <tr>\n",
       "      <th>221</th>\n",
       "      <td>Yamuna Nagar to Chandigarh</td>\n",
       "      <td>819.00</td>\n",
       "    </tr>\n",
       "  </tbody>\n",
       "</table>\n",
       "<p>222 rows × 2 columns</p>\n",
       "</div>"
      ],
      "text/plain": [
       "                                        Route_name   Price\n",
       "0                                  Agra to Lucknow  580.60\n",
       "1    Aligarh (uttar pradesh) to Jaipur (Rajasthan)  395.30\n",
       "2                      Amalapuram to Visakhapatnam  386.00\n",
       "3                           Baijnath to Chandigarh  529.10\n",
       "4                Ballia (Uttar Pradesh) to Lucknow  688.50\n",
       "..                                             ...     ...\n",
       "217                    Visakhapatnam to Amalapuram  355.00\n",
       "218                      Visakhapatnam to Kakinada  504.64\n",
       "219                   Visakhapatnam to Rajahmundry  477.00\n",
       "220                    Visakhapatnam to Vijayawada  741.20\n",
       "221                     Yamuna Nagar to Chandigarh  819.00\n",
       "\n",
       "[222 rows x 2 columns]"
      ]
     },
     "execution_count": 36,
     "metadata": {},
     "output_type": "execute_result"
    }
   ],
   "source": [
    "# Average price by route\n",
    "avg_price_by_route = df_bus.groupby('Route_name')['Price'].mean().reset_index()\n",
    "\n",
    "\n",
    "avg_price_by_route\n"
   ]
  },
  {
   "cell_type": "code",
   "execution_count": 37,
   "id": "fcddc9ab-de1c-4161-9cd1-a8624f76bef8",
   "metadata": {},
   "outputs": [
    {
     "data": {
      "text/plain": [
       "count    2461.000000\n",
       "mean      515.491410\n",
       "std       362.656722\n",
       "min        52.000000\n",
       "25%       283.000000\n",
       "50%       462.000000\n",
       "75%       664.000000\n",
       "max      5000.000000\n",
       "Name: Price, dtype: float64"
      ]
     },
     "execution_count": 37,
     "metadata": {},
     "output_type": "execute_result"
    }
   ],
   "source": [
    "# Get basic statistics (mean, median, min, max, std, etc.)\n",
    "price_stats = df_bus['Price'].describe()\n",
    "\n",
    "# Print the statistics\n",
    "price_stats\n"
   ]
  },
  {
   "cell_type": "code",
   "execution_count": 38,
   "id": "23eac9eb-79e1-4454-a030-3a96323df9a1",
   "metadata": {},
   "outputs": [
    {
     "name": "stdout",
     "output_type": "stream",
     "text": [
      "Number of missing price values: 0\n"
     ]
    }
   ],
   "source": [
    "# Count the missing values in the 'Price' column\n",
    "missing_prices = df_bus['Price'].isna().sum()\n",
    "\n",
    "# Print the number of missing prices\n",
    "print(f\"Number of missing price values: {missing_prices}\")\n"
   ]
  },
  {
   "cell_type": "code",
   "execution_count": 39,
   "id": "fb6f77d3-5f5a-48f9-b895-9d5cb51a1ea0",
   "metadata": {},
   "outputs": [
    {
     "name": "stdout",
     "output_type": "stream",
     "text": [
      "Number of unique prices: 462\n"
     ]
    }
   ],
   "source": [
    "# Count the number of unique prices\n",
    "unique_prices_count = df_bus['Price'].nunique()\n",
    "\n",
    "# Print the number of unique prices\n",
    "print(f\"Number of unique prices: {unique_prices_count}\")\n"
   ]
  },
  {
   "cell_type": "code",
   "execution_count": 41,
   "id": "568b5993-f461-4f02-bd0f-ed8581071895",
   "metadata": {},
   "outputs": [
    {
     "name": "stdout",
     "output_type": "stream",
     "text": [
      "Price Range: 52.0 to 5000.0\n"
     ]
    }
   ],
   "source": [
    "# Get the minimum and maximum price\n",
    "min_price = df_bus['Price'].min()\n",
    "max_price = df_bus['Price'].max()\n",
    "\n",
    "# Print the price range\n",
    "print(f\"Price Range: {min_price} to {max_price}\")\n"
   ]
  },
  {
   "cell_type": "markdown",
   "id": "11177a73-76cc-4b3a-ad32-fa293150a3c1",
   "metadata": {},
   "source": [
    "## OVERALL ANALYSIS"
   ]
  },
  {
   "cell_type": "code",
   "execution_count": 42,
   "id": "7ab9f3fc-749d-4828-b7d7-56c7c508c4a3",
   "metadata": {},
   "outputs": [
    {
     "name": "stdout",
     "output_type": "stream",
     "text": [
      "(2461, 10)\n"
     ]
    }
   ],
   "source": [
    "# Get the shape (number of rows and columns) of the dataframe\n",
    "print(df_bus.shape)\n"
   ]
  },
  {
   "cell_type": "code",
   "execution_count": 43,
   "id": "bccb22e4-3f71-4765-9c73-5d98b291e6e9",
   "metadata": {},
   "outputs": [
    {
     "name": "stdout",
     "output_type": "stream",
     "text": [
      "        Bus_name                        Bus_type Start_time End_time  \\\n",
      "0    MMK Travels      A/C Seater / Sleeper (2+1)      22:30    07:30   \n",
      "1    P K Travels      A/C Seater / Sleeper (2+1)      21:30    06:00   \n",
      "2    P K Travels               A/C Sleeper (2+1)      18:45    06:30   \n",
      "3     AdSAAM BUS            VE A/C Sleeper (2+1)      21:45    06:45   \n",
      "4  NS Transports  Non A/C Seater / Sleeper (2+1)      21:45    06:10   \n",
      "\n",
      "  Total_duration  Price  Seats_Available  Ratings              Route_name  \\\n",
      "0        09h 00m  750.0              NaN      0.0  Bangalore to Kozhikode   \n",
      "1        08h 30m  684.0              NaN      0.0  Bangalore to Kozhikode   \n",
      "2        11h 45m  810.0              NaN      0.0  Bangalore to Kozhikode   \n",
      "3        09h 00m  786.0              NaN      0.0  Bangalore to Kozhikode   \n",
      "4        08h 25m  699.0              NaN      0.0  Bangalore to Kozhikode   \n",
      "\n",
      "                                          Route_link  \n",
      "0  https://www.redbus.in/bus-tickets/bangalore-to...  \n",
      "1  https://www.redbus.in/bus-tickets/bangalore-to...  \n",
      "2  https://www.redbus.in/bus-tickets/bangalore-to...  \n",
      "3  https://www.redbus.in/bus-tickets/bangalore-to...  \n",
      "4  https://www.redbus.in/bus-tickets/bangalore-to...  \n"
     ]
    }
   ],
   "source": [
    "# View the first 5 rows of the dataframe\n",
    "print(df_bus.head())\n"
   ]
  },
  {
   "cell_type": "code",
   "execution_count": 44,
   "id": "c7b94fd9-c8a2-4fa6-add0-c5f4998f2ce3",
   "metadata": {},
   "outputs": [
    {
     "name": "stdout",
     "output_type": "stream",
     "text": [
      "                                              Bus_name             Bus_type  \\\n",
      "191  SBSTC-BARRACKPORE - HALDIA - VIA - BELGHARIA -...  Non AC Seater (2+3)   \n",
      "192  SBSTC-BARRACKPORE - HALDIA - VIA - BELGHARIA -...  Non AC Seater (2+3)   \n",
      "193  SBSTC-BARRACKPORE - HALDIA - VIA - BELGHARIA -...  Non AC Seater (2+3)   \n",
      "194  SBSTC-BARRACKPORE - HALDIA - VIA - BELGHARIA -...  Non AC Seater (2+3)   \n",
      "195  SBSTC-BARRACKPORE - HALDIA - VIA - BELGHARIA -...  Non AC Seater (2+3)   \n",
      "\n",
      "    Start_time End_time Total_duration  Price  Seats_Available  Ratings  \\\n",
      "191      07:15    10:15        03h 00m  112.0              NaN      0.0   \n",
      "192      07:15    10:15        03h 00m  112.0              NaN      0.0   \n",
      "193      07:15    10:15        03h 00m  112.0              NaN      0.0   \n",
      "194      07:15    10:15        03h 00m  112.0              NaN      0.0   \n",
      "195      07:15    10:15        03h 00m  112.0              NaN      0.0   \n",
      "\n",
      "            Route_name                                         Route_link  \n",
      "191  Kolkata to Haldia  https://www.redbus.in/bus-tickets/kolkata-to-h...  \n",
      "192  Kolkata to Haldia  https://www.redbus.in/bus-tickets/kolkata-to-h...  \n",
      "193  Kolkata to Haldia  https://www.redbus.in/bus-tickets/kolkata-to-h...  \n",
      "194  Kolkata to Haldia  https://www.redbus.in/bus-tickets/kolkata-to-h...  \n",
      "195  Kolkata to Haldia  https://www.redbus.in/bus-tickets/kolkata-to-h...  \n"
     ]
    }
   ],
   "source": [
    "# View the last 5 rows of the dataframe\n",
    "print(df_bus.tail())\n"
   ]
  },
  {
   "cell_type": "code",
   "execution_count": 45,
   "id": "af621dad-8cce-4a5b-ae37-8017714183a7",
   "metadata": {},
   "outputs": [
    {
     "name": "stdout",
     "output_type": "stream",
     "text": [
      "Bus_name            object\n",
      "Bus_type            object\n",
      "Start_time          object\n",
      "End_time            object\n",
      "Total_duration      object\n",
      "Price              float64\n",
      "Seats_Available    float64\n",
      "Ratings            float64\n",
      "Route_name          object\n",
      "Route_link          object\n",
      "dtype: object\n"
     ]
    }
   ],
   "source": [
    "# Get data types of each column\n",
    "print(df_bus.dtypes)\n"
   ]
  },
  {
   "cell_type": "code",
   "execution_count": 46,
   "id": "1b33bae7-b7a9-4cfb-aa66-d9900617fd4c",
   "metadata": {},
   "outputs": [
    {
     "name": "stdout",
     "output_type": "stream",
     "text": [
      "<class 'pandas.core.frame.DataFrame'>\n",
      "Index: 2461 entries, 0 to 195\n",
      "Data columns (total 10 columns):\n",
      " #   Column           Non-Null Count  Dtype  \n",
      "---  ------           --------------  -----  \n",
      " 0   Bus_name         2461 non-null   object \n",
      " 1   Bus_type         2461 non-null   object \n",
      " 2   Start_time       2461 non-null   object \n",
      " 3   End_time         2461 non-null   object \n",
      " 4   Total_duration   2461 non-null   object \n",
      " 5   Price            2461 non-null   float64\n",
      " 6   Seats_Available  0 non-null      float64\n",
      " 7   Ratings          2461 non-null   float64\n",
      " 8   Route_name       2461 non-null   object \n",
      " 9   Route_link       2461 non-null   object \n",
      "dtypes: float64(3), object(7)\n",
      "memory usage: 276.0+ KB\n"
     ]
    }
   ],
   "source": [
    "# Get summary information about the DataFrame\n",
    "df_bus.info()\n"
   ]
  },
  {
   "cell_type": "code",
   "execution_count": 47,
   "id": "d2272e6e-fac0-48ae-b57f-a5734312b473",
   "metadata": {},
   "outputs": [
    {
     "name": "stdout",
     "output_type": "stream",
     "text": [
      "             Price  Seats_Available      Ratings\n",
      "count  2461.000000              0.0  2461.000000\n",
      "mean    515.491410              NaN     1.285738\n",
      "std     362.656722              NaN     1.745732\n",
      "min      52.000000              NaN     0.000000\n",
      "25%     283.000000              NaN     0.000000\n",
      "50%     462.000000              NaN     0.000000\n",
      "75%     664.000000              NaN     3.300000\n",
      "max    5000.000000              NaN     4.800000\n"
     ]
    }
   ],
   "source": [
    "# Get descriptive statistics for numerical columns\n",
    "print(df_bus.describe())\n"
   ]
  },
  {
   "cell_type": "code",
   "execution_count": 48,
   "id": "7ccba3b0-bd39-4396-97dc-4171036b1349",
   "metadata": {},
   "outputs": [
    {
     "name": "stdout",
     "output_type": "stream",
     "text": [
      "Number of duplicate rows: 1127\n"
     ]
    }
   ],
   "source": [
    "# Check for duplicate rows\n",
    "duplicates = df_bus.duplicated().sum()\n",
    "print(f\"Number of duplicate rows: {duplicates}\")\n"
   ]
  },
  {
   "cell_type": "code",
   "execution_count": 49,
   "id": "5aab25d1",
   "metadata": {},
   "outputs": [
    {
     "name": "stdout",
     "output_type": "stream",
     "text": [
      "                                              Bus_name  \\\n",
      "14                                          A1 Travels   \n",
      "19                                          AdSAAM BUS   \n",
      "24                                       Adrin Travels   \n",
      "58                               KSRTC (Kerala) - 1583   \n",
      "59                               KSRTC (Kerala) - 1583   \n",
      "..                                                 ...   \n",
      "191  SBSTC-BARRACKPORE - HALDIA - VIA - BELGHARIA -...   \n",
      "192  SBSTC-BARRACKPORE - HALDIA - VIA - BELGHARIA -...   \n",
      "193  SBSTC-BARRACKPORE - HALDIA - VIA - BELGHARIA -...   \n",
      "194  SBSTC-BARRACKPORE - HALDIA - VIA - BELGHARIA -...   \n",
      "195  SBSTC-BARRACKPORE - HALDIA - VIA - BELGHARIA -...   \n",
      "\n",
      "                                  Bus_type Start_time End_time Total_duration  \\\n",
      "14   Bharat Benz A/C Seater /Sleeper (2+1)      22:30    01:29        02h 59m   \n",
      "19                    VE A/C Sleeper (2+1)      20:30    06:15        09h 45m   \n",
      "24                A/C Seater/Sleeper (2+1)      21:00    02:00        05h 00m   \n",
      "58       Swift Deluxe Non AC Air Bus (2+2)      20:00    03:00        07h 00m   \n",
      "59       Swift Deluxe Non AC Air Bus (2+2)      20:00    03:00        07h 00m   \n",
      "..                                     ...        ...      ...            ...   \n",
      "191                    Non AC Seater (2+3)      07:15    10:15        03h 00m   \n",
      "192                    Non AC Seater (2+3)      07:15    10:15        03h 00m   \n",
      "193                    Non AC Seater (2+3)      07:15    10:15        03h 00m   \n",
      "194                    Non AC Seater (2+3)      07:15    10:15        03h 00m   \n",
      "195                    Non AC Seater (2+3)      07:15    10:15        03h 00m   \n",
      "\n",
      "     Price  Seats_Available  Ratings              Route_name  \\\n",
      "14   700.0              NaN      0.0  Kozhikode to Ernakulam   \n",
      "19   833.0              NaN      0.0  Kozhikode to Bangalore   \n",
      "24   699.0              NaN      0.0  Ernakulam to Kozhikode   \n",
      "58   419.0              NaN      3.9     Kozhikode to Mysore   \n",
      "59   419.0              NaN      3.9     Kozhikode to Mysore   \n",
      "..     ...              ...      ...                     ...   \n",
      "191  112.0              NaN      0.0       Kolkata to Haldia   \n",
      "192  112.0              NaN      0.0       Kolkata to Haldia   \n",
      "193  112.0              NaN      0.0       Kolkata to Haldia   \n",
      "194  112.0              NaN      0.0       Kolkata to Haldia   \n",
      "195  112.0              NaN      0.0       Kolkata to Haldia   \n",
      "\n",
      "                                            Route_link  \n",
      "14   https://www.redbus.in/bus-tickets/kozhikode-to...  \n",
      "19   https://www.redbus.in/bus-tickets/kozhikode-to...  \n",
      "24   https://www.redbus.in/bus-tickets/ernakulam-to...  \n",
      "58   https://www.redbus.in/bus-tickets/kozhikode-to...  \n",
      "59   https://www.redbus.in/bus-tickets/kozhikode-to...  \n",
      "..                                                 ...  \n",
      "191  https://www.redbus.in/bus-tickets/kolkata-to-h...  \n",
      "192  https://www.redbus.in/bus-tickets/kolkata-to-h...  \n",
      "193  https://www.redbus.in/bus-tickets/kolkata-to-h...  \n",
      "194  https://www.redbus.in/bus-tickets/kolkata-to-h...  \n",
      "195  https://www.redbus.in/bus-tickets/kolkata-to-h...  \n",
      "\n",
      "[1127 rows x 10 columns]\n"
     ]
    }
   ],
   "source": [
    "duplicate_rows = df_bus[df_bus.duplicated()]\n",
    "print(duplicate_rows)\n"
   ]
  },
  {
   "cell_type": "code",
   "execution_count": 54,
   "id": "e88e3926",
   "metadata": {},
   "outputs": [
    {
     "name": "stdout",
     "output_type": "stream",
     "text": [
      "Shape of the cleaned DataFrame: (1334, 10)\n"
     ]
    }
   ],
   "source": [
    "df_bus_cleaned = df_bus.drop_duplicates()\n",
    "print(f\"Shape of the cleaned DataFrame: {df_bus_cleaned.shape}\")\n"
   ]
  },
  {
   "cell_type": "code",
   "execution_count": 55,
   "id": "e7ea201f-4b98-45fb-8ebe-924614cedd4c",
   "metadata": {},
   "outputs": [
    {
     "name": "stdout",
     "output_type": "stream",
     "text": [
      "['A/C Seater / Sleeper (2+1)' 'A/C Sleeper (2+1)' 'VE A/C Sleeper (2+1)'\n",
      " 'Non A/C Seater / Sleeper (2+1)' 'NON A/C Semi Sleeper (2+2)'\n",
      " 'Bharat Benz A/C Seater /Sleeper (2+1)' 'A/C Seater/Sleeper (2+1)'\n",
      " 'A/C Semi Sleeper (2+2)' 'Super Fast Non AC Seater (2+3)'\n",
      " 'SWIFT-GARUDA A/C SEATER BUS' 'Swift Deluxe Non AC Air Bus (2+2)'\n",
      " 'AC MULTI AXLE' 'Super Express Non AC Seater Air Bus (2+2)'\n",
      " 'Bharat Benz A/C Sleeper (2+1)' 'NON AC Seater / Sleeper 2+1'\n",
      " 'NON A/C Sleeper (2+1)' 'Low Floor AC Seater 2+2'\n",
      " 'SWIFT-HYBRID NON AC SEATER CUM SLEEPER'\n",
      " 'Volvo Multi-Axle I-Shift B11R Semi Sleeper (2+2)'\n",
      " '2+1 Air Suspension A/C Seater / Sleeper'\n",
      " 'SUPER LUXURY (NON-AC, 2 + 2 PUSH BACK)'\n",
      " 'DOLPHIN CRUISE (VOLVO / SCANIA A.C Multi Axle)'\n",
      " 'AMARAVATHI (VOLVO / SCANIA A.C Multi Axle)' 'INDRA(A.C. Seater)'\n",
      " 'VENNELA (A.C. SLEEPER)' 'Electric A/C Seater (2+2)' 'METRO LUXURY A/C'\n",
      " 'Express(Non AC Seater)' 'SAPTAGIRI EXPRESS' 'A/C Seater (2+2)'\n",
      " 'ULTRA DELUXE (NON-AC, 2+2 PUSH BACK)' 'NON A/C Seater/ Sleeper (2+1)'\n",
      " 'Volvo Multi-Axle A/C Sleeper (2+1)'\n",
      " 'Volvo Multi Axle A/C Sleeper I-Shift B11R (2+1)'\n",
      " 'NON A/C Semi Sleeper / Sleeper (2+1)'\n",
      " 'Lahari Non A/C Sleeper Cum Seater' 'Electric A/C Seater/Sleeper (2+1)'\n",
      " 'NIGHT RIDER (SEATER CUM SLEEPER)' 'Volvo 9600 A/C Seater/Sleeper (2+1)'\n",
      " 'AC Sleeper (2+1)' 'Volvo 9600 Multi-Axle A/C Sleeper (2+1)'\n",
      " 'Super Luxury (Non AC Seater 2+2 Push Back)'\n",
      " 'Bharat Benz A/C Seater (2+2)' 'Volvo AC Seater 2+2'\n",
      " 'Tata A/C Seater (2+2)' 'A/C Seater Push Back (2+2)' 'AC Seater (2+2)'\n",
      " 'A/C Seater (2+1)' 'NON A/C Seater (2+1)' 'Non AC Seater (2+2)'\n",
      " 'Volvo AC Seater Pushback 2+2' 'NON A/C Seater (2+2)'\n",
      " 'NON A/C Seater Push Back (2+1)' 'HVAC Seater (2+3)'\n",
      " 'Volvo A/C Semi Sleeper (2+2)' 'Volvo 9600 A/C Semi Sleeper (2+2)'\n",
      " 'VE A/C Seater / Sleeper (2+1)' 'Mercedes Multi-Axle Semi Sleeper (2+2)'\n",
      " 'Ordinary 3+2 Non AC Seater' 'A/C Executive (2+3)'\n",
      " 'Himsuta AC Seater Volvo/Scania 2+2'\n",
      " 'Super Luxury Volvo AC Seater Pushback 2+2' 'Volvo A/C Seater (2+2)'\n",
      " 'Himmani Deluxe 2+2 Non AC Seater' 'Bharat Benz A/C Semi Sleeper (2+2)'\n",
      " 'Scania Multi-Axle AC Semi Sleeper (2+2)' 'Bharat Benz (2+2)'\n",
      " 'Express Non AC Seater 2+3' 'Deluxe AC Seater 2+2'\n",
      " 'Semi Deluxe Non AC Seater 2+2' 'Bharat Benz A/C Seater (2+1)'\n",
      " 'Non AC Seater (2+3)' 'Volvo 9600 Multi Axle Semi-Sleeper (2+2)'\n",
      " 'VE A/C Seater (2+2)' 'A/C Seater / Sleeper (2+2)'\n",
      " 'A/C Seater Push Back (2+3)' 'AC Seater (2+3)' 'Non AC Seater 2+2'\n",
      " 'NON A/C Seater Push Back (2+2)' 'Rajdhani (AC Semi Sleeper 2+2)'\n",
      " 'RAJDHANI (A.C. Semi Sleeper)' 'Scania AC Multi Axle Sleeper (2+1)'\n",
      " 'GARUDA PLUS (VOLVO / BENZ A.C Multi Axle)'\n",
      " 'LAHARI A/C SLEEPER CUM SEATER' 'Ordinary Non AC Seater 2+3'\n",
      " 'Shatabdi AC Seater 2+2' 'Rajdhani Non AC Seater 2+3'\n",
      " 'Janrath AC Seater 2+2' 'Janrath AC Seater 2+3'\n",
      " 'Pink Express AC Seater 2+2' 'Volvo AC Seater (2+2)']\n"
     ]
    }
   ],
   "source": [
    "# Get unique values in a specific column (e.g., 'Bus_type')\n",
    "print(df_bus['Bus_type'].unique())\n"
   ]
  },
  {
   "cell_type": "code",
   "execution_count": 56,
   "id": "abf1f438-1320-4cf9-84b1-f510d1afb91b",
   "metadata": {},
   "outputs": [
    {
     "name": "stdout",
     "output_type": "stream",
     "text": [
      "Bus_type\n",
      "Non AC Seater (2+3)                        369\n",
      "Ordinary 3+2 Non AC Seater                 242\n",
      "SUPER LUXURY (NON-AC, 2 + 2 PUSH BACK)     242\n",
      "Ordinary Non AC Seater 2+3                 196\n",
      "Himsuta AC Seater Volvo/Scania 2+2         149\n",
      "                                          ... \n",
      "Non AC Seater 2+2                            1\n",
      "2+1 Air Suspension A/C Seater / Sleeper      1\n",
      "Volvo Multi-Axle A/C Sleeper (2+1)           1\n",
      "SWIFT-GARUDA A/C SEATER BUS                  1\n",
      "SWIFT-HYBRID NON AC SEATER CUM SLEEPER       1\n",
      "Name: count, Length: 91, dtype: int64\n"
     ]
    }
   ],
   "source": [
    "# Get value counts for a specific column (e.g., 'Bus_type')\n",
    "print(df_bus['Bus_type'].value_counts())\n"
   ]
  },
  {
   "cell_type": "code",
   "execution_count": 57,
   "id": "0cae8c4d-d342-4f01-a0ea-ea43a3f1cd0e",
   "metadata": {},
   "outputs": [
    {
     "name": "stdout",
     "output_type": "stream",
     "text": [
      "Bus_name           2461\n",
      "Bus_type           2461\n",
      "Start_time         2461\n",
      "End_time           2461\n",
      "Total_duration     2461\n",
      "Price              2461\n",
      "Seats_Available       0\n",
      "Ratings            2461\n",
      "Route_name         2461\n",
      "Route_link         2461\n",
      "dtype: int64\n"
     ]
    }
   ],
   "source": [
    "# Count the non-null values for each column\n",
    "print(df_bus.notna().sum())\n"
   ]
  },
  {
   "cell_type": "code",
   "execution_count": 59,
   "id": "b52ce67b",
   "metadata": {},
   "outputs": [
    {
     "name": "stderr",
     "output_type": "stream",
     "text": [
      "/var/folders/yj/8l_4gn6560scq2dktx2xb6nm0000gn/T/ipykernel_1804/1169006031.py:1: FutureWarning: A value is trying to be set on a copy of a DataFrame or Series through chained assignment using an inplace method.\n",
      "The behavior will change in pandas 3.0. This inplace method will never work because the intermediate object on which we are setting values always behaves as a copy.\n",
      "\n",
      "For example, when doing 'df[col].method(value, inplace=True)', try using 'df.method({col: value}, inplace=True)' or df[col] = df[col].method(value) instead, to perform the operation inplace on the original object.\n",
      "\n",
      "\n",
      "  df_bus['Seats_Available'].fillna(0, inplace=True)  # Replace NaNs with 0\n"
     ]
    }
   ],
   "source": [
    "df_bus['Seats_Available'].fillna(0, inplace=True)  # Replace NaNs with 0\n"
   ]
  },
  {
   "cell_type": "code",
   "execution_count": 60,
   "id": "723ae28f",
   "metadata": {},
   "outputs": [
    {
     "name": "stdout",
     "output_type": "stream",
     "text": [
      "Bus_name           2461\n",
      "Bus_type           2461\n",
      "Start_time         2461\n",
      "End_time           2461\n",
      "Total_duration     2461\n",
      "Price              2461\n",
      "Seats_Available    2461\n",
      "Ratings            2461\n",
      "Route_name         2461\n",
      "Route_link         2461\n",
      "dtype: int64\n"
     ]
    }
   ],
   "source": [
    "print(df_bus.notna().sum())"
   ]
  },
  {
   "cell_type": "code",
   "execution_count": 61,
   "id": "314da131-9c10-4818-ac22-9379eefe31e7",
   "metadata": {},
   "outputs": [
    {
     "name": "stdout",
     "output_type": "stream",
     "text": [
      "              Bus_name             Bus_type Start_time End_time  \\\n",
      "count             2461                 2461       2461     2461   \n",
      "unique             996                   91        298      323   \n",
      "top     Laxmi holidays  Non AC Seater (2+3)      05:00    00:00   \n",
      "freq                42                  369        110       83   \n",
      "mean               NaN                  NaN        NaN      NaN   \n",
      "std                NaN                  NaN        NaN      NaN   \n",
      "min                NaN                  NaN        NaN      NaN   \n",
      "25%                NaN                  NaN        NaN      NaN   \n",
      "50%                NaN                  NaN        NaN      NaN   \n",
      "75%                NaN                  NaN        NaN      NaN   \n",
      "max                NaN                  NaN        NaN      NaN   \n",
      "\n",
      "       Total_duration        Price  Seats_Available      Ratings  \\\n",
      "count            2461  2461.000000           2461.0  2461.000000   \n",
      "unique            237          NaN              NaN          NaN   \n",
      "top           03h 00m          NaN              NaN          NaN   \n",
      "freq               96          NaN              NaN          NaN   \n",
      "mean              NaN   515.491410              0.0     1.285738   \n",
      "std               NaN   362.656722              0.0     1.745732   \n",
      "min               NaN    52.000000              0.0     0.000000   \n",
      "25%               NaN   283.000000              0.0     0.000000   \n",
      "50%               NaN   462.000000              0.0     0.000000   \n",
      "75%               NaN   664.000000              0.0     3.300000   \n",
      "max               NaN  5000.000000              0.0     4.800000   \n",
      "\n",
      "                                          Route_name  \\\n",
      "count                                           2461   \n",
      "unique                                           222   \n",
      "top     Dharamshala (Himachal Pradesh) to Chandigarh   \n",
      "freq                                              45   \n",
      "mean                                             NaN   \n",
      "std                                              NaN   \n",
      "min                                              NaN   \n",
      "25%                                              NaN   \n",
      "50%                                              NaN   \n",
      "75%                                              NaN   \n",
      "max                                              NaN   \n",
      "\n",
      "                                               Route_link  \n",
      "count                                                2461  \n",
      "unique                                                222  \n",
      "top     https://www.redbus.in/bus-tickets/dharamshala-...  \n",
      "freq                                                   45  \n",
      "mean                                                  NaN  \n",
      "std                                                   NaN  \n",
      "min                                                   NaN  \n",
      "25%                                                   NaN  \n",
      "50%                                                   NaN  \n",
      "75%                                                   NaN  \n",
      "max                                                   NaN  \n"
     ]
    }
   ],
   "source": [
    "# Display a summary of the dataframe (missing data, etc.)\n",
    "print(df_bus.describe(include='all'))\n"
   ]
  },
  {
   "cell_type": "code",
   "execution_count": 62,
   "id": "b6503df9-4bdf-4dcc-b21a-b26943934715",
   "metadata": {},
   "outputs": [
    {
     "data": {
      "text/html": [
       "<div>\n",
       "<style scoped>\n",
       "    .dataframe tbody tr th:only-of-type {\n",
       "        vertical-align: middle;\n",
       "    }\n",
       "\n",
       "    .dataframe tbody tr th {\n",
       "        vertical-align: top;\n",
       "    }\n",
       "\n",
       "    .dataframe thead th {\n",
       "        text-align: right;\n",
       "    }\n",
       "</style>\n",
       "<table border=\"1\" class=\"dataframe\">\n",
       "  <thead>\n",
       "    <tr style=\"text-align: right;\">\n",
       "      <th></th>\n",
       "      <th>Bus_name</th>\n",
       "      <th>Bus_type</th>\n",
       "      <th>Start_time</th>\n",
       "      <th>End_time</th>\n",
       "      <th>Total_duration</th>\n",
       "      <th>Price</th>\n",
       "      <th>Seats_Available</th>\n",
       "      <th>Ratings</th>\n",
       "      <th>Route_name</th>\n",
       "      <th>Route_link</th>\n",
       "    </tr>\n",
       "  </thead>\n",
       "  <tbody>\n",
       "    <tr>\n",
       "      <th>0</th>\n",
       "      <td>MMK Travels</td>\n",
       "      <td>A/C Seater / Sleeper (2+1)</td>\n",
       "      <td>22:30</td>\n",
       "      <td>07:30</td>\n",
       "      <td>09h 00m</td>\n",
       "      <td>750.0</td>\n",
       "      <td>0.0</td>\n",
       "      <td>0.0</td>\n",
       "      <td>Bangalore to Kozhikode</td>\n",
       "      <td>https://www.redbus.in/bus-tickets/bangalore-to...</td>\n",
       "    </tr>\n",
       "    <tr>\n",
       "      <th>1</th>\n",
       "      <td>P K Travels</td>\n",
       "      <td>A/C Seater / Sleeper (2+1)</td>\n",
       "      <td>21:30</td>\n",
       "      <td>06:00</td>\n",
       "      <td>08h 30m</td>\n",
       "      <td>684.0</td>\n",
       "      <td>0.0</td>\n",
       "      <td>0.0</td>\n",
       "      <td>Bangalore to Kozhikode</td>\n",
       "      <td>https://www.redbus.in/bus-tickets/bangalore-to...</td>\n",
       "    </tr>\n",
       "    <tr>\n",
       "      <th>2</th>\n",
       "      <td>P K Travels</td>\n",
       "      <td>A/C Sleeper (2+1)</td>\n",
       "      <td>18:45</td>\n",
       "      <td>06:30</td>\n",
       "      <td>11h 45m</td>\n",
       "      <td>810.0</td>\n",
       "      <td>0.0</td>\n",
       "      <td>0.0</td>\n",
       "      <td>Bangalore to Kozhikode</td>\n",
       "      <td>https://www.redbus.in/bus-tickets/bangalore-to...</td>\n",
       "    </tr>\n",
       "    <tr>\n",
       "      <th>3</th>\n",
       "      <td>AdSAAM BUS</td>\n",
       "      <td>VE A/C Sleeper (2+1)</td>\n",
       "      <td>21:45</td>\n",
       "      <td>06:45</td>\n",
       "      <td>09h 00m</td>\n",
       "      <td>786.0</td>\n",
       "      <td>0.0</td>\n",
       "      <td>0.0</td>\n",
       "      <td>Bangalore to Kozhikode</td>\n",
       "      <td>https://www.redbus.in/bus-tickets/bangalore-to...</td>\n",
       "    </tr>\n",
       "    <tr>\n",
       "      <th>4</th>\n",
       "      <td>NS Transports</td>\n",
       "      <td>Non A/C Seater / Sleeper (2+1)</td>\n",
       "      <td>21:45</td>\n",
       "      <td>06:10</td>\n",
       "      <td>08h 25m</td>\n",
       "      <td>699.0</td>\n",
       "      <td>0.0</td>\n",
       "      <td>0.0</td>\n",
       "      <td>Bangalore to Kozhikode</td>\n",
       "      <td>https://www.redbus.in/bus-tickets/bangalore-to...</td>\n",
       "    </tr>\n",
       "    <tr>\n",
       "      <th>...</th>\n",
       "      <td>...</td>\n",
       "      <td>...</td>\n",
       "      <td>...</td>\n",
       "      <td>...</td>\n",
       "      <td>...</td>\n",
       "      <td>...</td>\n",
       "      <td>...</td>\n",
       "      <td>...</td>\n",
       "      <td>...</td>\n",
       "      <td>...</td>\n",
       "    </tr>\n",
       "    <tr>\n",
       "      <th>191</th>\n",
       "      <td>SBSTC-BARRACKPORE - HALDIA - VIA - BELGHARIA -...</td>\n",
       "      <td>Non AC Seater (2+3)</td>\n",
       "      <td>07:15</td>\n",
       "      <td>10:15</td>\n",
       "      <td>03h 00m</td>\n",
       "      <td>112.0</td>\n",
       "      <td>0.0</td>\n",
       "      <td>0.0</td>\n",
       "      <td>Kolkata to Haldia</td>\n",
       "      <td>https://www.redbus.in/bus-tickets/kolkata-to-h...</td>\n",
       "    </tr>\n",
       "    <tr>\n",
       "      <th>192</th>\n",
       "      <td>SBSTC-BARRACKPORE - HALDIA - VIA - BELGHARIA -...</td>\n",
       "      <td>Non AC Seater (2+3)</td>\n",
       "      <td>07:15</td>\n",
       "      <td>10:15</td>\n",
       "      <td>03h 00m</td>\n",
       "      <td>112.0</td>\n",
       "      <td>0.0</td>\n",
       "      <td>0.0</td>\n",
       "      <td>Kolkata to Haldia</td>\n",
       "      <td>https://www.redbus.in/bus-tickets/kolkata-to-h...</td>\n",
       "    </tr>\n",
       "    <tr>\n",
       "      <th>193</th>\n",
       "      <td>SBSTC-BARRACKPORE - HALDIA - VIA - BELGHARIA -...</td>\n",
       "      <td>Non AC Seater (2+3)</td>\n",
       "      <td>07:15</td>\n",
       "      <td>10:15</td>\n",
       "      <td>03h 00m</td>\n",
       "      <td>112.0</td>\n",
       "      <td>0.0</td>\n",
       "      <td>0.0</td>\n",
       "      <td>Kolkata to Haldia</td>\n",
       "      <td>https://www.redbus.in/bus-tickets/kolkata-to-h...</td>\n",
       "    </tr>\n",
       "    <tr>\n",
       "      <th>194</th>\n",
       "      <td>SBSTC-BARRACKPORE - HALDIA - VIA - BELGHARIA -...</td>\n",
       "      <td>Non AC Seater (2+3)</td>\n",
       "      <td>07:15</td>\n",
       "      <td>10:15</td>\n",
       "      <td>03h 00m</td>\n",
       "      <td>112.0</td>\n",
       "      <td>0.0</td>\n",
       "      <td>0.0</td>\n",
       "      <td>Kolkata to Haldia</td>\n",
       "      <td>https://www.redbus.in/bus-tickets/kolkata-to-h...</td>\n",
       "    </tr>\n",
       "    <tr>\n",
       "      <th>195</th>\n",
       "      <td>SBSTC-BARRACKPORE - HALDIA - VIA - BELGHARIA -...</td>\n",
       "      <td>Non AC Seater (2+3)</td>\n",
       "      <td>07:15</td>\n",
       "      <td>10:15</td>\n",
       "      <td>03h 00m</td>\n",
       "      <td>112.0</td>\n",
       "      <td>0.0</td>\n",
       "      <td>0.0</td>\n",
       "      <td>Kolkata to Haldia</td>\n",
       "      <td>https://www.redbus.in/bus-tickets/kolkata-to-h...</td>\n",
       "    </tr>\n",
       "  </tbody>\n",
       "</table>\n",
       "<p>2461 rows × 10 columns</p>\n",
       "</div>"
      ],
      "text/plain": [
       "                                              Bus_name  \\\n",
       "0                                          MMK Travels   \n",
       "1                                          P K Travels   \n",
       "2                                          P K Travels   \n",
       "3                                           AdSAAM BUS   \n",
       "4                                        NS Transports   \n",
       "..                                                 ...   \n",
       "191  SBSTC-BARRACKPORE - HALDIA - VIA - BELGHARIA -...   \n",
       "192  SBSTC-BARRACKPORE - HALDIA - VIA - BELGHARIA -...   \n",
       "193  SBSTC-BARRACKPORE - HALDIA - VIA - BELGHARIA -...   \n",
       "194  SBSTC-BARRACKPORE - HALDIA - VIA - BELGHARIA -...   \n",
       "195  SBSTC-BARRACKPORE - HALDIA - VIA - BELGHARIA -...   \n",
       "\n",
       "                           Bus_type Start_time End_time Total_duration  Price  \\\n",
       "0        A/C Seater / Sleeper (2+1)      22:30    07:30        09h 00m  750.0   \n",
       "1        A/C Seater / Sleeper (2+1)      21:30    06:00        08h 30m  684.0   \n",
       "2                 A/C Sleeper (2+1)      18:45    06:30        11h 45m  810.0   \n",
       "3              VE A/C Sleeper (2+1)      21:45    06:45        09h 00m  786.0   \n",
       "4    Non A/C Seater / Sleeper (2+1)      21:45    06:10        08h 25m  699.0   \n",
       "..                              ...        ...      ...            ...    ...   \n",
       "191             Non AC Seater (2+3)      07:15    10:15        03h 00m  112.0   \n",
       "192             Non AC Seater (2+3)      07:15    10:15        03h 00m  112.0   \n",
       "193             Non AC Seater (2+3)      07:15    10:15        03h 00m  112.0   \n",
       "194             Non AC Seater (2+3)      07:15    10:15        03h 00m  112.0   \n",
       "195             Non AC Seater (2+3)      07:15    10:15        03h 00m  112.0   \n",
       "\n",
       "     Seats_Available  Ratings              Route_name  \\\n",
       "0                0.0      0.0  Bangalore to Kozhikode   \n",
       "1                0.0      0.0  Bangalore to Kozhikode   \n",
       "2                0.0      0.0  Bangalore to Kozhikode   \n",
       "3                0.0      0.0  Bangalore to Kozhikode   \n",
       "4                0.0      0.0  Bangalore to Kozhikode   \n",
       "..               ...      ...                     ...   \n",
       "191              0.0      0.0       Kolkata to Haldia   \n",
       "192              0.0      0.0       Kolkata to Haldia   \n",
       "193              0.0      0.0       Kolkata to Haldia   \n",
       "194              0.0      0.0       Kolkata to Haldia   \n",
       "195              0.0      0.0       Kolkata to Haldia   \n",
       "\n",
       "                                            Route_link  \n",
       "0    https://www.redbus.in/bus-tickets/bangalore-to...  \n",
       "1    https://www.redbus.in/bus-tickets/bangalore-to...  \n",
       "2    https://www.redbus.in/bus-tickets/bangalore-to...  \n",
       "3    https://www.redbus.in/bus-tickets/bangalore-to...  \n",
       "4    https://www.redbus.in/bus-tickets/bangalore-to...  \n",
       "..                                                 ...  \n",
       "191  https://www.redbus.in/bus-tickets/kolkata-to-h...  \n",
       "192  https://www.redbus.in/bus-tickets/kolkata-to-h...  \n",
       "193  https://www.redbus.in/bus-tickets/kolkata-to-h...  \n",
       "194  https://www.redbus.in/bus-tickets/kolkata-to-h...  \n",
       "195  https://www.redbus.in/bus-tickets/kolkata-to-h...  \n",
       "\n",
       "[2461 rows x 10 columns]"
      ]
     },
     "execution_count": 62,
     "metadata": {},
     "output_type": "execute_result"
    }
   ],
   "source": [
    "df_bus"
   ]
  },
  {
   "cell_type": "code",
   "execution_count": 63,
   "id": "ba86ebc2-7258-4914-9eaf-9e67e5b6b0f4",
   "metadata": {},
   "outputs": [
    {
     "name": "stdout",
     "output_type": "stream",
     "text": [
      "Bus_name           0\n",
      "Bus_type           0\n",
      "Start_time         0\n",
      "End_time           0\n",
      "Total_duration     0\n",
      "Price              0\n",
      "Seats_Available    0\n",
      "Ratings            0\n",
      "Route_name         0\n",
      "Route_link         0\n",
      "dtype: int64\n"
     ]
    }
   ],
   "source": [
    "# Check if there are any missing values left\n",
    "print(df_bus.isna().sum())\n"
   ]
  },
  {
   "cell_type": "code",
   "execution_count": 64,
   "id": "42cd52fd-b311-461a-877f-86dc8f46c4db",
   "metadata": {},
   "outputs": [
    {
     "data": {
      "text/plain": [
       "array(['09h 00m', '08h 30m', '11h 45m', '08h 25m', '09h 10m', '08h 15m',\n",
       "       '03h 54m', '04h 30m', '04h 45m', '02h 59m', '09h 15m', '10h 00m',\n",
       "       '09h 45m', '06h 15m', '05h 20m', '05h 35m', '05h 00m', '05h 50m',\n",
       "       '05h 45m', '06h 00m', '07h 25m', '05h 30m', '06h 10m', '06h 55m',\n",
       "       '07h 20m', '04h 55m', '05h 40m', '06h 05m', '06h 33m', '05h 41m',\n",
       "       '06h 11m', '06h 20m', '07h 05m', '06h 45m', '07h 31m', '06h 16m',\n",
       "       '06h 40m', '07h 00m', '03h 35m', '03h 20m', '03h 55m', '10h 20m',\n",
       "       '10h 30m', '08h 55m', '09h 55m', '08h 40m', '10h 50m', '10h 05m',\n",
       "       '08h 00m', '11h 35m', '07h 50m', '08h 45m', '09h 50m', '08h 20m',\n",
       "       '08h 35m', '09h 25m', '07h 30m', '06h 35m', '05h 55m', '07h 08m',\n",
       "       '07h 10m', '03h 30m', '07h 40m', '07h 55m', '07h 45m', '07h 15m',\n",
       "       '06h 59m', '08h 05m', '05h 05m', '06h 30m', '05h 52m', '07h 42m',\n",
       "       '04h 50m', '07h 41m', '08h 18m', '06h 50m', '03h 00m', '04h 10m',\n",
       "       '03h 50m', '03h 05m', '04h 25m', '03h 45m', '02h 50m', '04h 00m',\n",
       "       '03h 40m', '06h 25m', '05h 25m', '04h 15m', '05h 10m', '04h 35m',\n",
       "       '07h 35m', '06h 53m', '04h 59m', '05h 15m', '04h 20m', '03h 25m',\n",
       "       '16h 00m', '05h 01m', '05h 34m', '04h 44m', '05h 02m', '05h 04m',\n",
       "       '04h 02m', '04h 22m', '04h 46m', '08h 22m', '03h 15m', '08h 03m',\n",
       "       '05h 44m', '04h 40m', '04h 05m', '04h 21m', '03h 53m', '07h 59m',\n",
       "       '03h 34m', '04h 03m', '08h 50m', '11h 25m', '08h 10m', '08h 57m',\n",
       "       '07h 29m', '06h 47m', '30h 15m', '09h 20m', '03h 10m', '02h 45m',\n",
       "       '02h 00m', '02h 15m', '01h 50m', '01h 45m', '01h 40m', '02h 05m',\n",
       "       '02h 30m', '02h 35m', '09h 37m', '07h 44m', '02h 44m', '09h 35m',\n",
       "       '04h 31m', '11h 15m', '09h 09m', '09h 40m', '09h 05m', '11h 00m',\n",
       "       '10h 10m', '10h 16m', '09h 47m', '05h 09m', '10h 48m', '09h 32m',\n",
       "       '09h 42m', '09h 30m', '12h 25m', '11h 30m', '10h 35m', '13h 50m',\n",
       "       '12h 05m', '11h 05m', '08h 52m', '07h 52m', '02h 20m', '02h 40m',\n",
       "       '08h 36m', '08h 04m', '03h 21m', '10h 45m', '10h 40m', '13h 00m',\n",
       "       '12h 00m', '13h 15m', '04h 47m', '02h 25m', '06h 01m', '18h 40m',\n",
       "       '06h 31m', '08h 29m', '19h 20m', '18h 50m', '18h 30m', '17h 45m',\n",
       "       '20h 00m', '19h 30m', '19h 00m', '18h 45m', '18h 00m', '17h 30m',\n",
       "       '03h 01m', '02h 55m', '01h 00m', '07h 12m', '14h 30m', '05h 16m',\n",
       "       '13h 16m', '13h 07m', '05h 56m', '02h 49m', '03h 06m', '13h 05m',\n",
       "       '07h 58m', '06h 34m', '08h 34m', '08h 09m', '10h 02m', '11h 19m',\n",
       "       '12h 07m', '12h 51m', '07h 43m', '13h 20m', '13h 10m', '13h 30m',\n",
       "       '14h 00m', '14h 05m', '07h 28m', '07h 01m', '07h 39m', '08h 27m',\n",
       "       '04h 11m', '12h 01m', '08h 26m', '08h 08m', '05h 43m', '08h 41m',\n",
       "       '07h 17m', '09h 46m', '06h 04m', '17h 37m', '15h 00m', '06h 29m',\n",
       "       '07h 34m', '09h 02m', '05h 21m', '02h 10m', '01h 35m', '15h 45m',\n",
       "       '14h 10m', '17h 40m', '17h 00m'], dtype=object)"
      ]
     },
     "execution_count": 64,
     "metadata": {},
     "output_type": "execute_result"
    }
   ],
   "source": [
    "df_bus['Total_duration'].unique()"
   ]
  },
  {
   "cell_type": "code",
   "execution_count": 6,
   "id": "4be63f51-e586-41be-a95e-4eae2d33b6d7",
   "metadata": {},
   "outputs": [
    {
     "ename": "KeyError",
     "evalue": "'departing_time'",
     "output_type": "error",
     "traceback": [
      "\u001b[0;31m---------------------------------------------------------------------------\u001b[0m",
      "\u001b[0;31mKeyError\u001b[0m                                  Traceback (most recent call last)",
      "File \u001b[0;32m/opt/anaconda3/lib/python3.12/site-packages/pandas/core/indexes/base.py:3805\u001b[0m, in \u001b[0;36mIndex.get_loc\u001b[0;34m(self, key)\u001b[0m\n\u001b[1;32m   3804\u001b[0m \u001b[38;5;28;01mtry\u001b[39;00m:\n\u001b[0;32m-> 3805\u001b[0m     \u001b[38;5;28;01mreturn\u001b[39;00m \u001b[38;5;28mself\u001b[39m\u001b[38;5;241m.\u001b[39m_engine\u001b[38;5;241m.\u001b[39mget_loc(casted_key)\n\u001b[1;32m   3806\u001b[0m \u001b[38;5;28;01mexcept\u001b[39;00m \u001b[38;5;167;01mKeyError\u001b[39;00m \u001b[38;5;28;01mas\u001b[39;00m err:\n",
      "File \u001b[0;32mindex.pyx:167\u001b[0m, in \u001b[0;36mpandas._libs.index.IndexEngine.get_loc\u001b[0;34m()\u001b[0m\n",
      "File \u001b[0;32mindex.pyx:196\u001b[0m, in \u001b[0;36mpandas._libs.index.IndexEngine.get_loc\u001b[0;34m()\u001b[0m\n",
      "File \u001b[0;32mpandas/_libs/hashtable_class_helper.pxi:7081\u001b[0m, in \u001b[0;36mpandas._libs.hashtable.PyObjectHashTable.get_item\u001b[0;34m()\u001b[0m\n",
      "File \u001b[0;32mpandas/_libs/hashtable_class_helper.pxi:7089\u001b[0m, in \u001b[0;36mpandas._libs.hashtable.PyObjectHashTable.get_item\u001b[0;34m()\u001b[0m\n",
      "\u001b[0;31mKeyError\u001b[0m: 'departing_time'",
      "\nThe above exception was the direct cause of the following exception:\n",
      "\u001b[0;31mKeyError\u001b[0m                                  Traceback (most recent call last)",
      "Cell \u001b[0;32mIn[6], line 1\u001b[0m\n\u001b[0;32m----> 1\u001b[0m \u001b[38;5;28mprint\u001b[39m(df_bus[\u001b[38;5;124m'\u001b[39m\u001b[38;5;124mdeparting_time\u001b[39m\u001b[38;5;124m'\u001b[39m]\u001b[38;5;241m.\u001b[39mdtype)\n",
      "File \u001b[0;32m/opt/anaconda3/lib/python3.12/site-packages/pandas/core/frame.py:4102\u001b[0m, in \u001b[0;36mDataFrame.__getitem__\u001b[0;34m(self, key)\u001b[0m\n\u001b[1;32m   4100\u001b[0m \u001b[38;5;28;01mif\u001b[39;00m \u001b[38;5;28mself\u001b[39m\u001b[38;5;241m.\u001b[39mcolumns\u001b[38;5;241m.\u001b[39mnlevels \u001b[38;5;241m>\u001b[39m \u001b[38;5;241m1\u001b[39m:\n\u001b[1;32m   4101\u001b[0m     \u001b[38;5;28;01mreturn\u001b[39;00m \u001b[38;5;28mself\u001b[39m\u001b[38;5;241m.\u001b[39m_getitem_multilevel(key)\n\u001b[0;32m-> 4102\u001b[0m indexer \u001b[38;5;241m=\u001b[39m \u001b[38;5;28mself\u001b[39m\u001b[38;5;241m.\u001b[39mcolumns\u001b[38;5;241m.\u001b[39mget_loc(key)\n\u001b[1;32m   4103\u001b[0m \u001b[38;5;28;01mif\u001b[39;00m is_integer(indexer):\n\u001b[1;32m   4104\u001b[0m     indexer \u001b[38;5;241m=\u001b[39m [indexer]\n",
      "File \u001b[0;32m/opt/anaconda3/lib/python3.12/site-packages/pandas/core/indexes/base.py:3812\u001b[0m, in \u001b[0;36mIndex.get_loc\u001b[0;34m(self, key)\u001b[0m\n\u001b[1;32m   3807\u001b[0m     \u001b[38;5;28;01mif\u001b[39;00m \u001b[38;5;28misinstance\u001b[39m(casted_key, \u001b[38;5;28mslice\u001b[39m) \u001b[38;5;129;01mor\u001b[39;00m (\n\u001b[1;32m   3808\u001b[0m         \u001b[38;5;28misinstance\u001b[39m(casted_key, abc\u001b[38;5;241m.\u001b[39mIterable)\n\u001b[1;32m   3809\u001b[0m         \u001b[38;5;129;01mand\u001b[39;00m \u001b[38;5;28many\u001b[39m(\u001b[38;5;28misinstance\u001b[39m(x, \u001b[38;5;28mslice\u001b[39m) \u001b[38;5;28;01mfor\u001b[39;00m x \u001b[38;5;129;01min\u001b[39;00m casted_key)\n\u001b[1;32m   3810\u001b[0m     ):\n\u001b[1;32m   3811\u001b[0m         \u001b[38;5;28;01mraise\u001b[39;00m InvalidIndexError(key)\n\u001b[0;32m-> 3812\u001b[0m     \u001b[38;5;28;01mraise\u001b[39;00m \u001b[38;5;167;01mKeyError\u001b[39;00m(key) \u001b[38;5;28;01mfrom\u001b[39;00m \u001b[38;5;21;01merr\u001b[39;00m\n\u001b[1;32m   3813\u001b[0m \u001b[38;5;28;01mexcept\u001b[39;00m \u001b[38;5;167;01mTypeError\u001b[39;00m:\n\u001b[1;32m   3814\u001b[0m     \u001b[38;5;66;03m# If we have a listlike key, _check_indexing_error will raise\u001b[39;00m\n\u001b[1;32m   3815\u001b[0m     \u001b[38;5;66;03m#  InvalidIndexError. Otherwise we fall through and re-raise\u001b[39;00m\n\u001b[1;32m   3816\u001b[0m     \u001b[38;5;66;03m#  the TypeError.\u001b[39;00m\n\u001b[1;32m   3817\u001b[0m     \u001b[38;5;28mself\u001b[39m\u001b[38;5;241m.\u001b[39m_check_indexing_error(key)\n",
      "\u001b[0;31mKeyError\u001b[0m: 'departing_time'"
     ]
    }
   ],
   "source": [
    "print(df_bus['departing_time'].dtype)\n"
   ]
  }
 ],
 "metadata": {
  "kernelspec": {
   "display_name": "base",
   "language": "python",
   "name": "python3"
  },
  "language_info": {
   "codemirror_mode": {
    "name": "ipython",
    "version": 3
   },
   "file_extension": ".py",
   "mimetype": "text/x-python",
   "name": "python",
   "nbconvert_exporter": "python",
   "pygments_lexer": "ipython3",
   "version": "3.12.4"
  }
 },
 "nbformat": 4,
 "nbformat_minor": 5
}
